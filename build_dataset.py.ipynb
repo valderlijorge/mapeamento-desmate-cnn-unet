{
 "cells": [
  {
   "cell_type": "code",
   "execution_count": 11,
   "metadata": {},
   "outputs": [],
   "source": [
    "from osgeo import gdal\n",
    "import numpy as np\n",
    "from tqdm import tqdm\n",
    "import os\n",
    "import math\n",
    "import time\n",
    "from osgeo import gdal"
   ]
  },
  {
   "cell_type": "code",
   "execution_count": 12,
   "metadata": {},
   "outputs": [],
   "source": [
    "def load_image(image):\n",
    "    return gdal.Open(image, gdal.GA_ReadOnly)\n",
    "    \n",
    "def convert_to_array(dataset):\n",
    "    bands = [dataset.GetRasterBand(i + 1).ReadAsArray() for i in range(dataset.RasterCount)]\n",
    "    return np.stack(bands, 2)"
   ]
  },
  {
   "cell_type": "code",
   "execution_count": 13,
   "metadata": {},
   "outputs": [],
   "source": [
    "def delete_empty_images(images_path):\n",
    "    \n",
    "    print(\"Deleting empty images and masks.\")\n",
    "    \n",
    "    files = next(os.walk(images_path))[2]\n",
    "    \n",
    "    num_deleted = 0\n",
    "    for image_file in files:\n",
    "\n",
    "        image = images_path + image_file\n",
    "        \n",
    "        image_data = load_image(image)\n",
    "        image_data = convert_to_array(image_data)\n",
    "        \n",
    "        index_mask = image_data.shape[2] - 1\n",
    "        mask = image_data[:,:,index_mask]\n",
    "\n",
    "        # Deleta qualquer mask e imagem em que a mask esteja mais de 99% vazia.\n",
    "        if np.any(mask):\n",
    "            num_white_pixels = len(mask[mask==1])\n",
    "            num_black_pixels = len(mask[mask==0])\n",
    "            if num_black_pixels == 0: num_black_pixels = 1 # para evitar erro de dividir por 0\n",
    "\n",
    "            if num_white_pixels/num_black_pixels < 0.01:\n",
    "                os.system('rm -rf {0}'.format(image))\n",
    "                num_deleted+=1\n",
    "        else:\n",
    "            os.system('rm -rf {0}'.format(image))\n",
    "            num_deleted+=1\n",
    "\n",
    "    print(\"\\n{} images were deleted.\".format(num_deleted))"
   ]
  },
  {
   "cell_type": "code",
   "execution_count": 14,
   "metadata": {},
   "outputs": [],
   "source": [
    "def crop_images(images_path, out_path, image_name, tilesize=256):\n",
    "    raster = gdal.Open(images_path+image_name)\n",
    "    \n",
    "    print('path', images_path+image_name)\n",
    "\n",
    "    width = raster.RasterXSize\n",
    "    height = raster.RasterYSize\n",
    "\n",
    "    for i in range(0, width, tilesize):\n",
    "        for j in range(0, height, tilesize):\n",
    "            gdaltranString = \"gdal_translate -of GTIFF -srcwin \"+str(i)+\", \"+str(j)+\", \"+str(tilesize)+\", \" \\\n",
    "                +str(tilesize)+\" \"+images_path+image_name+\" \"+out_path+str(i)+\"_\"+str(j)+\"_\"+image_name\n",
    "            os.system(gdaltranString)"
   ]
  },
  {
   "cell_type": "code",
   "execution_count": 16,
   "metadata": {},
   "outputs": [],
   "source": [
    "def crop_and_save(images_path, new_images_path, tilesize, degrowth_factor, first=False, last=False):\n",
    "    \n",
    "    print(\"Clipping tilesize: {}\".format(tilesize))\n",
    "    \n",
    "    if not first:\n",
    "        images_path = new_images_path + str(tilesize * degrowth_factor)+\"/\"\n",
    "    \n",
    "    if not last:\n",
    "        new_images_path = new_images_path + str(tilesize)+\"/\"\n",
    "        for path in [new_images_path]:\n",
    "            if not os.path.exists(path):\n",
    "                os.mkdir(path)\n",
    "    \n",
    "    start_time = time.time()\n",
    "    files = next(os.walk(images_path))[2]\n",
    "    print('Total number of files =',len(files))\n",
    "    \n",
    "    for image_name in tqdm(files, total = len(files)):\n",
    "                \n",
    "        crop_images(images_path, new_images_path, image_name, tilesize)\n",
    "    \n",
    "    # deleta imagens vazias\n",
    "    if not last:\n",
    "        delete_empty_images(new_images_path)\n",
    "    \n",
    "    if not first:\n",
    "        os.system('rm -rf {0}'.format(images_path))\n"
   ]
  },
  {
   "cell_type": "code",
   "execution_count": 17,
   "metadata": {
    "scrolled": true
   },
   "outputs": [
    {
     "name": "stderr",
     "output_type": "stream",
     "text": [
      "\r",
      "  0%|          | 0/1 [00:00<?, ?it/s]"
     ]
    },
    {
     "name": "stdout",
     "output_type": "stream",
     "text": [
      "DIRECTORY ALREADY EXISTS: Data/BuildingsDataSet/Prediction/Images/\n",
      "Building Dataset.\n",
      "Clipping tilesize: 1024\n",
      "Total number of files = 1\n",
      "path Data/DesforestationAlerts/Prediction/Images/prediction_1_2_image.tif\n"
     ]
    },
    {
     "name": "stderr",
     "output_type": "stream",
     "text": [
      "100%|██████████| 1/1 [00:15<00:00, 15.69s/it]\n"
     ]
    }
   ],
   "source": [
    "if __name__ == \"__main__\":\n",
    "    root_data_path = \"Data/DesforestationAlerts/Prediction/\"\n",
    "    root_new_data_path = \"Data/BuildingsDataSet/Prediction/\"\n",
    "    test_to_train_ratio = 0\n",
    "    tilesize_start = 1024\n",
    "    degrowth_factor = 2\n",
    "\n",
    "    # Path Information\n",
    "    images_path = root_data_path + \"Images/\"\n",
    "    new_images_path = root_new_data_path + \"Images/\"\n",
    "\n",
    "    for path in [new_images_path]:\n",
    "        if not os.path.exists(path):\n",
    "            os.mkdir(path)\n",
    "            print(\"DIRECTORY CREATED: {}\".format(path))\n",
    "        else:\n",
    "             print(\"DIRECTORY ALREADY EXISTS: {}\".format(path))\n",
    "                \n",
    "    print(\"Building Dataset.\")\n",
    "\n",
    "    # recorta as imagens em diferentes tamanhos\n",
    "    # 256x256\n",
    "    tilesize = tilesize_start\n",
    "    crop_and_save(images_path, new_images_path, tilesize, degrowth_factor, first=True, last=True)\n",
    "    \"\"\"\n",
    "    # 128x128\n",
    "    tilesize //= degrowth_factor\n",
    "    crop_and_save(images_path, new_images_path, tilesize, degrowth_factor, first=False)\n",
    "    # 64x64\n",
    "    tilesize //= degrowth_factor\n",
    "    crop_and_save(images_path, new_images_path, tilesize, degrowth_factor, first=False, last=True)\n",
    "    # 32x32\n",
    "    tilesize //= degrowth_factor\n",
    "    crop_and_save(images_path, new_images_path, tilesize, degrowth_factor, first=False, last=True)\n",
    "    \"\"\"\n",
    "    \n",
    "    \n",
    "    \n",
    "    \n",
    "    "
   ]
  }
 ],
 "metadata": {
  "kernelspec": {
   "display_name": "Python 3",
   "language": "python",
   "name": "python3"
  },
  "language_info": {
   "codemirror_mode": {
    "name": "ipython",
    "version": 3
   },
   "file_extension": ".py",
   "mimetype": "text/x-python",
   "name": "python",
   "nbconvert_exporter": "python",
   "pygments_lexer": "ipython3",
   "version": "3.6.9"
  }
 },
 "nbformat": 4,
 "nbformat_minor": 2
}
