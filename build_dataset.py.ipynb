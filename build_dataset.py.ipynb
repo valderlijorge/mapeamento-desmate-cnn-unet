{
 "cells": [
  {
   "cell_type": "code",
   "execution_count": 1,
   "metadata": {},
   "outputs": [],
   "source": [
    "from osgeo import gdal\n",
    "import numpy as np\n",
    "from tqdm import tqdm\n",
    "import os\n",
    "import math\n",
    "import time\n",
    "from osgeo import gdal"
   ]
  },
  {
   "cell_type": "code",
   "execution_count": 2,
   "metadata": {},
   "outputs": [],
   "source": [
    "def load_image(image):\n",
    "    return gdal.Open(image, gdal.GA_ReadOnly)\n",
    "    \n",
    "def convert_to_array(dataset):\n",
    "    bands = [dataset.GetRasterBand(i + 1).ReadAsArray() for i in range(dataset.RasterCount)]\n",
    "    return np.stack(bands, 2)"
   ]
  },
  {
   "cell_type": "code",
   "execution_count": 3,
   "metadata": {},
   "outputs": [],
   "source": [
    "def delete_empty_images(images_path, masks_path):\n",
    "    \n",
    "    print(\"Deleting empty images and masks.\")\n",
    "    \n",
    "    files = next(os.walk(images_path))[2]\n",
    "    \n",
    "    num_deleted = 0\n",
    "    for image_file in files:\n",
    "\n",
    "        image = images_path + image_file\n",
    "\n",
    "        mask = masks_path + image_file\n",
    "        mask_data = load_image(mask)\n",
    "        mask_data = convert_to_array(mask_data)\n",
    "\n",
    "        # Deleta qualquer mask e imagem em que a mask esteja mais de 99% vazia.\n",
    "        if np.any(mask_data):\n",
    "            num_white_pixels = len(mask_data[mask_data==1])\n",
    "            num_black_pixels = len(mask_data[mask_data==0])\n",
    "            if num_black_pixels == 0: num_black_pixels = 1 # para evitar erro de dividir por 0\n",
    "\n",
    "            if num_white_pixels/num_black_pixels < 0.01:\n",
    "                os.system('rm -rf {0}'.format(image))\n",
    "                os.system('rm -rf {0}'.format(mask))\n",
    "                num_deleted+=1\n",
    "        else:\n",
    "            os.system('rm -rf {0}'.format(image))\n",
    "            os.system('rm -rf {0}'.format(mask))\n",
    "            num_deleted+=1\n",
    "\n",
    "    print(\"\\n{} images were deleted.\".format(num_deleted))"
   ]
  },
  {
   "cell_type": "code",
   "execution_count": 4,
   "metadata": {},
   "outputs": [],
   "source": [
    "def crop_images(images_path, out_path, image_name, tilesize=256):\n",
    "    raster = gdal.Open(images_path+image_name)\n",
    "    \n",
    "    print('path', images_path+image_name)\n",
    "\n",
    "    width = raster.RasterXSize\n",
    "    height = raster.RasterYSize\n",
    "\n",
    "    for i in range(0, width, tilesize):\n",
    "        for j in range(0, height, tilesize):\n",
    "            gdaltranString = \"gdal_translate -of GTIFF -srcwin \"+str(i)+\", \"+str(j)+\", \"+str(tilesize)+\", \" \\\n",
    "                +str(tilesize)+\" \"+images_path+image_name+\" \"+out_path+str(i)+\"_\"+str(j)+\"_\"+image_name\n",
    "            os.system(gdaltranString)"
   ]
  },
  {
   "cell_type": "code",
   "execution_count": 6,
   "metadata": {},
   "outputs": [],
   "source": [
    "def crop_and_save(images_path, masks_path, new_images_path, new_masks_path, tilesize, degrowth_factor, first=False, last=False):\n",
    "    \n",
    "    print(\"Clipping tilesize: {}\".format(tilesize))\n",
    "    \n",
    "    if not first:\n",
    "        images_path = new_images_path + str(tilesize * degrowth_factor)+\"/\"\n",
    "        masks_path = new_masks_path + str(tilesize * degrowth_factor)+\"/\"\n",
    "    \n",
    "    if not last:\n",
    "        new_images_path = new_images_path + str(tilesize)+\"/\"\n",
    "        new_masks_path = new_masks_path + str(tilesize)+\"/\"\n",
    "        for path in [new_images_path, new_masks_path]:\n",
    "            if not os.path.exists(path):\n",
    "                os.mkdir(path)\n",
    "    \n",
    "    start_time = time.time()\n",
    "    files = next(os.walk(images_path))[2]\n",
    "    print('Total number of files =',len(files))\n",
    "    \n",
    "    for image_name in tqdm(files, total = len(files)):\n",
    "                \n",
    "        crop_images(images_path, new_images_path, image_name, tilesize)\n",
    "        crop_images(masks_path, new_masks_path, image_name, tilesize)\n",
    "    \n",
    "    # deleta imagens vazias\n",
    "    delete_empty_images(new_images_path, new_masks_path)\n",
    "    \n",
    "    if not first:\n",
    "        os.system('rm -rf {0}'.format(images_path))\n",
    "        os.system('rm -rf {0}'.format(masks_path))\n"
   ]
  },
  {
   "cell_type": "code",
   "execution_count": 22,
   "metadata": {
    "scrolled": true
   },
   "outputs": [
    {
     "name": "stderr",
     "output_type": "stream",
     "text": [
      "\r",
      "  0%|          | 0/4 [00:00<?, ?it/s]"
     ]
    },
    {
     "name": "stdout",
     "output_type": "stream",
     "text": [
      "DIRECTORY ALREADY EXISTS: Data/BuildingsDataSet/Images/\n",
      "DIRECTORY ALREADY EXISTS: Data/BuildingsDataSet/Masks/\n",
      "Building Dataset.\n",
      "Clipping tilesize: 256\n",
      "Total number of files = 4\n",
      "path Data/DesforestationAlerts/Images/1.1.tif\n",
      "path Data/DesforestationAlerts/Masks/1.1.tif\n"
     ]
    },
    {
     "name": "stderr",
     "output_type": "stream",
     "text": [
      "\r",
      " 25%|██▌       | 1/4 [01:41<05:05, 101.94s/it]"
     ]
    },
    {
     "name": "stdout",
     "output_type": "stream",
     "text": [
      "path Data/DesforestationAlerts/Images/1.4.tif\n",
      "path Data/DesforestationAlerts/Masks/1.4.tif\n"
     ]
    },
    {
     "name": "stderr",
     "output_type": "stream",
     "text": [
      "\r",
      " 50%|█████     | 2/4 [03:12<03:10, 95.30s/it] "
     ]
    },
    {
     "name": "stdout",
     "output_type": "stream",
     "text": [
      "path Data/DesforestationAlerts/Images/1.3.tif\n",
      "path Data/DesforestationAlerts/Masks/1.3.tif\n"
     ]
    },
    {
     "name": "stderr",
     "output_type": "stream",
     "text": [
      "\r",
      " 75%|███████▌  | 3/4 [04:43<01:33, 93.08s/it]"
     ]
    },
    {
     "name": "stdout",
     "output_type": "stream",
     "text": [
      "path Data/DesforestationAlerts/Images/1.2.tif\n",
      "path Data/DesforestationAlerts/Masks/1.2.tif\n"
     ]
    },
    {
     "name": "stderr",
     "output_type": "stream",
     "text": [
      "100%|██████████| 4/4 [06:34<00:00, 98.65s/it] \n"
     ]
    },
    {
     "name": "stdout",
     "output_type": "stream",
     "text": [
      "Deleting empty images and masks.\n"
     ]
    },
    {
     "name": "stderr",
     "output_type": "stream",
     "text": [
      "\r",
      "  0%|          | 0/61 [00:00<?, ?it/s]"
     ]
    },
    {
     "name": "stdout",
     "output_type": "stream",
     "text": [
      "\n",
      "1598 images were deleted.\n",
      "Clipping tilesize: 128\n",
      "Total number of files = 61\n",
      "path Data/BuildingsDataSet/Images/256/1792_0_1.2.tif\n"
     ]
    },
    {
     "name": "stderr",
     "output_type": "stream",
     "text": [
      "\r",
      "  2%|▏         | 1/61 [00:00<00:29,  2.05it/s]"
     ]
    },
    {
     "name": "stdout",
     "output_type": "stream",
     "text": [
      "path Data/BuildingsDataSet/Masks/256/1792_0_1.2.tif\n",
      "path Data/BuildingsDataSet/Images/256/1024_768_1.2.tif\n"
     ]
    },
    {
     "name": "stderr",
     "output_type": "stream",
     "text": [
      "\r",
      "  3%|▎         | 2/61 [00:00<00:25,  2.27it/s]"
     ]
    },
    {
     "name": "stdout",
     "output_type": "stream",
     "text": [
      "path Data/BuildingsDataSet/Masks/256/1024_768_1.2.tif\n",
      "path Data/BuildingsDataSet/Images/256/2560_3328_1.3.tif\n"
     ]
    },
    {
     "name": "stderr",
     "output_type": "stream",
     "text": [
      "\r",
      "  5%|▍         | 3/61 [00:01<00:23,  2.51it/s]"
     ]
    },
    {
     "name": "stdout",
     "output_type": "stream",
     "text": [
      "path Data/BuildingsDataSet/Masks/256/2560_3328_1.3.tif\n",
      "path Data/BuildingsDataSet/Images/256/256_1536_1.3.tif\n"
     ]
    },
    {
     "name": "stderr",
     "output_type": "stream",
     "text": [
      "\r",
      "  7%|▋         | 4/61 [00:01<00:21,  2.65it/s]"
     ]
    },
    {
     "name": "stdout",
     "output_type": "stream",
     "text": [
      "path Data/BuildingsDataSet/Masks/256/256_1536_1.3.tif\n",
      "path Data/BuildingsDataSet/Images/256/1024_256_1.2.tif\n"
     ]
    },
    {
     "name": "stderr",
     "output_type": "stream",
     "text": [
      "\r",
      "  8%|▊         | 5/61 [00:01<00:21,  2.66it/s]"
     ]
    },
    {
     "name": "stdout",
     "output_type": "stream",
     "text": [
      "path Data/BuildingsDataSet/Masks/256/1024_256_1.2.tif\n",
      "path Data/BuildingsDataSet/Images/256/4608_4608_1.4.tif\n"
     ]
    },
    {
     "name": "stderr",
     "output_type": "stream",
     "text": [
      "\r",
      " 10%|▉         | 6/61 [00:02<00:20,  2.62it/s]"
     ]
    },
    {
     "name": "stdout",
     "output_type": "stream",
     "text": [
      "path Data/BuildingsDataSet/Masks/256/4608_4608_1.4.tif\n",
      "path Data/BuildingsDataSet/Images/256/4096_2048_1.1.tif\n"
     ]
    },
    {
     "name": "stderr",
     "output_type": "stream",
     "text": [
      "\r",
      " 11%|█▏        | 7/61 [00:02<00:20,  2.58it/s]"
     ]
    },
    {
     "name": "stdout",
     "output_type": "stream",
     "text": [
      "path Data/BuildingsDataSet/Masks/256/4096_2048_1.1.tif\n",
      "path Data/BuildingsDataSet/Images/256/2560_2304_1.1.tif\n"
     ]
    },
    {
     "name": "stderr",
     "output_type": "stream",
     "text": [
      "\r",
      " 13%|█▎        | 8/61 [00:03<00:20,  2.61it/s]"
     ]
    },
    {
     "name": "stdout",
     "output_type": "stream",
     "text": [
      "path Data/BuildingsDataSet/Masks/256/2560_2304_1.1.tif\n",
      "path Data/BuildingsDataSet/Images/256/3840_2048_1.1.tif\n"
     ]
    },
    {
     "name": "stderr",
     "output_type": "stream",
     "text": [
      "\r",
      " 15%|█▍        | 9/61 [00:03<00:19,  2.64it/s]"
     ]
    },
    {
     "name": "stdout",
     "output_type": "stream",
     "text": [
      "path Data/BuildingsDataSet/Masks/256/3840_2048_1.1.tif\n",
      "path Data/BuildingsDataSet/Images/256/768_1024_1.3.tif\n"
     ]
    },
    {
     "name": "stderr",
     "output_type": "stream",
     "text": [
      "\r",
      " 16%|█▋        | 10/61 [00:03<00:19,  2.62it/s]"
     ]
    },
    {
     "name": "stdout",
     "output_type": "stream",
     "text": [
      "path Data/BuildingsDataSet/Masks/256/768_1024_1.3.tif\n",
      "path Data/BuildingsDataSet/Images/256/1280_4864_1.1.tif\n"
     ]
    },
    {
     "name": "stderr",
     "output_type": "stream",
     "text": [
      "\r",
      " 18%|█▊        | 11/61 [00:04<00:19,  2.57it/s]"
     ]
    },
    {
     "name": "stdout",
     "output_type": "stream",
     "text": [
      "path Data/BuildingsDataSet/Masks/256/1280_4864_1.1.tif\n",
      "path Data/BuildingsDataSet/Images/256/1280_1280_1.2.tif\n"
     ]
    },
    {
     "name": "stderr",
     "output_type": "stream",
     "text": [
      "\r",
      " 20%|█▉        | 12/61 [00:04<00:18,  2.58it/s]"
     ]
    },
    {
     "name": "stdout",
     "output_type": "stream",
     "text": [
      "path Data/BuildingsDataSet/Masks/256/1280_1280_1.2.tif\n",
      "path Data/BuildingsDataSet/Images/256/4096_0_1.1.tif\n"
     ]
    },
    {
     "name": "stderr",
     "output_type": "stream",
     "text": [
      "\r",
      " 21%|██▏       | 13/61 [00:05<00:18,  2.65it/s]"
     ]
    },
    {
     "name": "stdout",
     "output_type": "stream",
     "text": [
      "path Data/BuildingsDataSet/Masks/256/4096_0_1.1.tif\n",
      "path Data/BuildingsDataSet/Images/256/4608_4352_1.4.tif\n"
     ]
    },
    {
     "name": "stderr",
     "output_type": "stream",
     "text": [
      "\r",
      " 23%|██▎       | 14/61 [00:05<00:17,  2.63it/s]"
     ]
    },
    {
     "name": "stdout",
     "output_type": "stream",
     "text": [
      "path Data/BuildingsDataSet/Masks/256/4608_4352_1.4.tif\n",
      "path Data/BuildingsDataSet/Images/256/2048_768_1.2.tif\n"
     ]
    },
    {
     "name": "stderr",
     "output_type": "stream",
     "text": [
      "\r",
      " 25%|██▍       | 15/61 [00:05<00:18,  2.55it/s]"
     ]
    },
    {
     "name": "stdout",
     "output_type": "stream",
     "text": [
      "path Data/BuildingsDataSet/Masks/256/2048_768_1.2.tif\n",
      "path Data/BuildingsDataSet/Images/256/1280_1792_1.4.tif\n"
     ]
    },
    {
     "name": "stderr",
     "output_type": "stream",
     "text": [
      "\r",
      " 26%|██▌       | 16/61 [00:06<00:17,  2.57it/s]"
     ]
    },
    {
     "name": "stdout",
     "output_type": "stream",
     "text": [
      "path Data/BuildingsDataSet/Masks/256/1280_1792_1.4.tif\n",
      "path Data/BuildingsDataSet/Images/256/4096_2048_1.2.tif\n"
     ]
    },
    {
     "name": "stderr",
     "output_type": "stream",
     "text": [
      "\r",
      " 28%|██▊       | 17/61 [00:06<00:16,  2.71it/s]"
     ]
    },
    {
     "name": "stdout",
     "output_type": "stream",
     "text": [
      "path Data/BuildingsDataSet/Masks/256/4096_2048_1.2.tif\n",
      "path Data/BuildingsDataSet/Images/256/3072_0_1.1.tif\n"
     ]
    },
    {
     "name": "stderr",
     "output_type": "stream",
     "text": [
      "\r",
      " 30%|██▉       | 18/61 [00:07<00:22,  1.92it/s]"
     ]
    },
    {
     "name": "stdout",
     "output_type": "stream",
     "text": [
      "path Data/BuildingsDataSet/Masks/256/3072_0_1.1.tif\n",
      "path Data/BuildingsDataSet/Images/256/4352_5120_1.2.tif\n"
     ]
    },
    {
     "name": "stderr",
     "output_type": "stream",
     "text": [
      "\r",
      " 31%|███       | 19/61 [00:07<00:19,  2.19it/s]"
     ]
    },
    {
     "name": "stdout",
     "output_type": "stream",
     "text": [
      "path Data/BuildingsDataSet/Masks/256/4352_5120_1.2.tif\n",
      "path Data/BuildingsDataSet/Images/256/3840_0_1.1.tif\n"
     ]
    },
    {
     "name": "stderr",
     "output_type": "stream",
     "text": [
      "\r",
      " 33%|███▎      | 20/61 [00:08<00:17,  2.34it/s]"
     ]
    },
    {
     "name": "stdout",
     "output_type": "stream",
     "text": [
      "path Data/BuildingsDataSet/Masks/256/3840_0_1.1.tif\n",
      "path Data/BuildingsDataSet/Images/256/2560_3328_1.4.tif\n"
     ]
    },
    {
     "name": "stderr",
     "output_type": "stream",
     "text": [
      "\r",
      " 34%|███▍      | 21/61 [00:08<00:16,  2.44it/s]"
     ]
    },
    {
     "name": "stdout",
     "output_type": "stream",
     "text": [
      "path Data/BuildingsDataSet/Masks/256/2560_3328_1.4.tif\n",
      "path Data/BuildingsDataSet/Images/256/512_1536_1.3.tif\n"
     ]
    },
    {
     "name": "stderr",
     "output_type": "stream",
     "text": [
      "\r",
      " 36%|███▌      | 22/61 [00:08<00:15,  2.44it/s]"
     ]
    },
    {
     "name": "stdout",
     "output_type": "stream",
     "text": [
      "path Data/BuildingsDataSet/Masks/256/512_1536_1.3.tif\n",
      "path Data/BuildingsDataSet/Images/256/2560_2560_1.3.tif\n"
     ]
    },
    {
     "name": "stderr",
     "output_type": "stream",
     "text": [
      "\r",
      " 38%|███▊      | 23/61 [00:09<00:15,  2.47it/s]"
     ]
    },
    {
     "name": "stdout",
     "output_type": "stream",
     "text": [
      "path Data/BuildingsDataSet/Masks/256/2560_2560_1.3.tif\n",
      "path Data/BuildingsDataSet/Images/256/1280_1024_1.2.tif\n"
     ]
    },
    {
     "name": "stderr",
     "output_type": "stream",
     "text": [
      "\r",
      " 39%|███▉      | 24/61 [00:09<00:14,  2.51it/s]"
     ]
    },
    {
     "name": "stdout",
     "output_type": "stream",
     "text": [
      "path Data/BuildingsDataSet/Masks/256/1280_1024_1.2.tif\n",
      "path Data/BuildingsDataSet/Images/256/2560_2048_1.1.tif\n"
     ]
    },
    {
     "name": "stderr",
     "output_type": "stream",
     "text": [
      "\r",
      " 41%|████      | 25/61 [00:09<00:13,  2.62it/s]"
     ]
    },
    {
     "name": "stdout",
     "output_type": "stream",
     "text": [
      "path Data/BuildingsDataSet/Masks/256/2560_2048_1.1.tif\n",
      "path Data/BuildingsDataSet/Images/256/2560_4352_1.3.tif\n"
     ]
    },
    {
     "name": "stderr",
     "output_type": "stream",
     "text": [
      "\r",
      " 43%|████▎     | 26/61 [00:10<00:13,  2.54it/s]"
     ]
    },
    {
     "name": "stdout",
     "output_type": "stream",
     "text": [
      "path Data/BuildingsDataSet/Masks/256/2560_4352_1.3.tif\n",
      "path Data/BuildingsDataSet/Images/256/0_5376_1.1.tif\n"
     ]
    },
    {
     "name": "stderr",
     "output_type": "stream",
     "text": [
      "\r",
      " 44%|████▍     | 27/61 [00:10<00:14,  2.33it/s]"
     ]
    },
    {
     "name": "stdout",
     "output_type": "stream",
     "text": [
      "path Data/BuildingsDataSet/Masks/256/0_5376_1.1.tif\n",
      "path Data/BuildingsDataSet/Images/256/1280_512_1.2.tif\n"
     ]
    },
    {
     "name": "stderr",
     "output_type": "stream",
     "text": [
      "\r",
      " 46%|████▌     | 28/61 [00:11<00:13,  2.45it/s]"
     ]
    },
    {
     "name": "stdout",
     "output_type": "stream",
     "text": [
      "path Data/BuildingsDataSet/Masks/256/1280_512_1.2.tif\n",
      "path Data/BuildingsDataSet/Images/256/2816_3072_1.1.tif\n"
     ]
    },
    {
     "name": "stderr",
     "output_type": "stream",
     "text": [
      "\r",
      " 48%|████▊     | 29/61 [00:11<00:12,  2.58it/s]"
     ]
    },
    {
     "name": "stdout",
     "output_type": "stream",
     "text": [
      "path Data/BuildingsDataSet/Masks/256/2816_3072_1.1.tif\n",
      "path Data/BuildingsDataSet/Images/256/2816_1536_1.2.tif\n"
     ]
    },
    {
     "name": "stderr",
     "output_type": "stream",
     "text": [
      "\r",
      " 49%|████▉     | 30/61 [00:12<00:13,  2.32it/s]"
     ]
    },
    {
     "name": "stdout",
     "output_type": "stream",
     "text": [
      "path Data/BuildingsDataSet/Masks/256/2816_1536_1.2.tif\n",
      "path Data/BuildingsDataSet/Images/256/1024_5120_1.1.tif\n"
     ]
    },
    {
     "name": "stderr",
     "output_type": "stream",
     "text": [
      "\r",
      " 51%|█████     | 31/61 [00:12<00:12,  2.44it/s]"
     ]
    },
    {
     "name": "stdout",
     "output_type": "stream",
     "text": [
      "path Data/BuildingsDataSet/Masks/256/1024_5120_1.1.tif\n",
      "path Data/BuildingsDataSet/Images/256/1536_0_1.4.tif\n"
     ]
    },
    {
     "name": "stderr",
     "output_type": "stream",
     "text": [
      "\r",
      " 52%|█████▏    | 32/61 [00:12<00:11,  2.50it/s]"
     ]
    },
    {
     "name": "stdout",
     "output_type": "stream",
     "text": [
      "path Data/BuildingsDataSet/Masks/256/1536_0_1.4.tif\n",
      "path Data/BuildingsDataSet/Images/256/1024_4608_1.1.tif\n"
     ]
    },
    {
     "name": "stderr",
     "output_type": "stream",
     "text": [
      "\r",
      " 54%|█████▍    | 33/61 [00:13<00:11,  2.49it/s]"
     ]
    },
    {
     "name": "stdout",
     "output_type": "stream",
     "text": [
      "path Data/BuildingsDataSet/Masks/256/1024_4608_1.1.tif\n",
      "path Data/BuildingsDataSet/Images/256/3840_3840_1.4.tif\n"
     ]
    },
    {
     "name": "stderr",
     "output_type": "stream",
     "text": [
      "\r",
      " 56%|█████▌    | 34/61 [00:13<00:10,  2.62it/s]"
     ]
    },
    {
     "name": "stdout",
     "output_type": "stream",
     "text": [
      "path Data/BuildingsDataSet/Masks/256/3840_3840_1.4.tif\n",
      "path Data/BuildingsDataSet/Images/256/768_5120_1.1.tif\n"
     ]
    },
    {
     "name": "stderr",
     "output_type": "stream",
     "text": [
      "\r",
      " 57%|█████▋    | 35/61 [00:13<00:09,  2.72it/s]"
     ]
    },
    {
     "name": "stdout",
     "output_type": "stream",
     "text": [
      "path Data/BuildingsDataSet/Masks/256/768_5120_1.1.tif\n",
      "path Data/BuildingsDataSet/Images/256/1792_2048_1.1.tif\n"
     ]
    },
    {
     "name": "stderr",
     "output_type": "stream",
     "text": [
      "\r",
      " 59%|█████▉    | 36/61 [00:14<00:09,  2.72it/s]"
     ]
    },
    {
     "name": "stdout",
     "output_type": "stream",
     "text": [
      "path Data/BuildingsDataSet/Masks/256/1792_2048_1.1.tif\n",
      "path Data/BuildingsDataSet/Images/256/3840_768_1.1.tif\n"
     ]
    },
    {
     "name": "stderr",
     "output_type": "stream",
     "text": [
      "\r",
      " 61%|██████    | 37/61 [00:14<00:09,  2.63it/s]"
     ]
    },
    {
     "name": "stdout",
     "output_type": "stream",
     "text": [
      "path Data/BuildingsDataSet/Masks/256/3840_768_1.1.tif\n",
      "path Data/BuildingsDataSet/Images/256/1792_3072_1.1.tif\n"
     ]
    },
    {
     "name": "stderr",
     "output_type": "stream",
     "text": [
      "\r",
      " 62%|██████▏   | 38/61 [00:15<00:08,  2.70it/s]"
     ]
    },
    {
     "name": "stdout",
     "output_type": "stream",
     "text": [
      "path Data/BuildingsDataSet/Masks/256/1792_3072_1.1.tif\n",
      "path Data/BuildingsDataSet/Images/256/2816_2816_1.1.tif\n"
     ]
    },
    {
     "name": "stderr",
     "output_type": "stream",
     "text": [
      "\r",
      " 64%|██████▍   | 39/61 [00:15<00:07,  2.81it/s]"
     ]
    },
    {
     "name": "stdout",
     "output_type": "stream",
     "text": [
      "path Data/BuildingsDataSet/Masks/256/2816_2816_1.1.tif\n",
      "path Data/BuildingsDataSet/Images/256/3072_4096_1.4.tif\n"
     ]
    },
    {
     "name": "stderr",
     "output_type": "stream",
     "text": [
      "\r",
      " 66%|██████▌   | 40/61 [00:15<00:08,  2.46it/s]"
     ]
    },
    {
     "name": "stdout",
     "output_type": "stream",
     "text": [
      "path Data/BuildingsDataSet/Masks/256/3072_4096_1.4.tif\n",
      "path Data/BuildingsDataSet/Images/256/768_2816_1.4.tif\n"
     ]
    },
    {
     "name": "stderr",
     "output_type": "stream",
     "text": [
      "\r",
      " 67%|██████▋   | 41/61 [00:16<00:07,  2.52it/s]"
     ]
    },
    {
     "name": "stdout",
     "output_type": "stream",
     "text": [
      "path Data/BuildingsDataSet/Masks/256/768_2816_1.4.tif\n",
      "path Data/BuildingsDataSet/Images/256/1280_3072_1.1.tif\n"
     ]
    },
    {
     "name": "stderr",
     "output_type": "stream",
     "text": [
      "\r",
      " 69%|██████▉   | 42/61 [00:16<00:07,  2.56it/s]"
     ]
    },
    {
     "name": "stdout",
     "output_type": "stream",
     "text": [
      "path Data/BuildingsDataSet/Masks/256/1280_3072_1.1.tif\n",
      "path Data/BuildingsDataSet/Images/256/1280_768_1.2.tif\n"
     ]
    },
    {
     "name": "stderr",
     "output_type": "stream",
     "text": [
      "\r",
      " 70%|███████   | 43/61 [00:17<00:06,  2.63it/s]"
     ]
    },
    {
     "name": "stdout",
     "output_type": "stream",
     "text": [
      "path Data/BuildingsDataSet/Masks/256/1280_768_1.2.tif\n",
      "path Data/BuildingsDataSet/Images/256/4864_4608_1.2.tif\n"
     ]
    },
    {
     "name": "stderr",
     "output_type": "stream",
     "text": [
      "\r",
      " 72%|███████▏  | 44/61 [00:17<00:06,  2.83it/s]"
     ]
    },
    {
     "name": "stdout",
     "output_type": "stream",
     "text": [
      "path Data/BuildingsDataSet/Masks/256/4864_4608_1.2.tif\n",
      "path Data/BuildingsDataSet/Images/256/3072_2304_1.3.tif\n"
     ]
    },
    {
     "name": "stderr",
     "output_type": "stream",
     "text": [
      "\r",
      " 74%|███████▍  | 45/61 [00:17<00:05,  2.86it/s]"
     ]
    },
    {
     "name": "stdout",
     "output_type": "stream",
     "text": [
      "path Data/BuildingsDataSet/Masks/256/3072_2304_1.3.tif\n",
      "path Data/BuildingsDataSet/Images/256/2560_2048_1.2.tif\n"
     ]
    },
    {
     "name": "stderr",
     "output_type": "stream",
     "text": [
      "\r",
      " 75%|███████▌  | 46/61 [00:18<00:05,  2.86it/s]"
     ]
    },
    {
     "name": "stdout",
     "output_type": "stream",
     "text": [
      "path Data/BuildingsDataSet/Masks/256/2560_2048_1.2.tif\n",
      "path Data/BuildingsDataSet/Images/256/0_1536_1.3.tif\n"
     ]
    },
    {
     "name": "stderr",
     "output_type": "stream",
     "text": [
      "\r",
      " 77%|███████▋  | 47/61 [00:18<00:04,  2.84it/s]"
     ]
    },
    {
     "name": "stdout",
     "output_type": "stream",
     "text": [
      "path Data/BuildingsDataSet/Masks/256/0_1536_1.3.tif\n",
      "path Data/BuildingsDataSet/Images/256/512_768_1.3.tif\n"
     ]
    },
    {
     "name": "stderr",
     "output_type": "stream",
     "text": [
      "\r",
      " 79%|███████▊  | 48/61 [00:18<00:04,  2.82it/s]"
     ]
    },
    {
     "name": "stdout",
     "output_type": "stream",
     "text": [
      "path Data/BuildingsDataSet/Masks/256/512_768_1.3.tif\n",
      "path Data/BuildingsDataSet/Images/256/3584_1536_1.2.tif\n"
     ]
    },
    {
     "name": "stderr",
     "output_type": "stream",
     "text": [
      "\r",
      " 80%|████████  | 49/61 [00:19<00:04,  2.94it/s]"
     ]
    },
    {
     "name": "stdout",
     "output_type": "stream",
     "text": [
      "path Data/BuildingsDataSet/Masks/256/3584_1536_1.2.tif\n",
      "path Data/BuildingsDataSet/Images/256/1536_256_1.4.tif\n"
     ]
    },
    {
     "name": "stderr",
     "output_type": "stream",
     "text": [
      "\r",
      " 82%|████████▏ | 50/61 [00:19<00:03,  2.83it/s]"
     ]
    },
    {
     "name": "stdout",
     "output_type": "stream",
     "text": [
      "path Data/BuildingsDataSet/Masks/256/1536_256_1.4.tif\n",
      "path Data/BuildingsDataSet/Images/256/4096_4864_1.2.tif\n"
     ]
    },
    {
     "name": "stderr",
     "output_type": "stream",
     "text": [
      "\r",
      " 84%|████████▎ | 51/61 [00:19<00:03,  2.98it/s]"
     ]
    },
    {
     "name": "stdout",
     "output_type": "stream",
     "text": [
      "path Data/BuildingsDataSet/Masks/256/4096_4864_1.2.tif\n",
      "path Data/BuildingsDataSet/Images/256/2304_0_1.1.tif\n"
     ]
    },
    {
     "name": "stderr",
     "output_type": "stream",
     "text": [
      "\r",
      " 85%|████████▌ | 52/61 [00:20<00:03,  2.92it/s]"
     ]
    },
    {
     "name": "stdout",
     "output_type": "stream",
     "text": [
      "path Data/BuildingsDataSet/Masks/256/2304_0_1.1.tif\n",
      "path Data/BuildingsDataSet/Images/256/3584_4608_1.3.tif\n"
     ]
    },
    {
     "name": "stderr",
     "output_type": "stream",
     "text": [
      "\r",
      " 87%|████████▋ | 53/61 [00:20<00:02,  2.75it/s]"
     ]
    },
    {
     "name": "stdout",
     "output_type": "stream",
     "text": [
      "path Data/BuildingsDataSet/Masks/256/3584_4608_1.3.tif\n",
      "path Data/BuildingsDataSet/Images/256/2048_3072_1.1.tif\n"
     ]
    },
    {
     "name": "stderr",
     "output_type": "stream",
     "text": [
      "\r",
      " 89%|████████▊ | 54/61 [00:20<00:02,  2.48it/s]"
     ]
    },
    {
     "name": "stdout",
     "output_type": "stream",
     "text": [
      "path Data/BuildingsDataSet/Masks/256/2048_3072_1.1.tif\n",
      "path Data/BuildingsDataSet/Images/256/3584_2560_1.4.tif\n"
     ]
    },
    {
     "name": "stderr",
     "output_type": "stream",
     "text": [
      "\r",
      " 90%|█████████ | 55/61 [00:21<00:02,  2.51it/s]"
     ]
    },
    {
     "name": "stdout",
     "output_type": "stream",
     "text": [
      "path Data/BuildingsDataSet/Masks/256/3584_2560_1.4.tif\n",
      "path Data/BuildingsDataSet/Images/256/2304_4864_1.2.tif\n"
     ]
    },
    {
     "name": "stderr",
     "output_type": "stream",
     "text": [
      "\r",
      " 92%|█████████▏| 56/61 [00:21<00:01,  2.61it/s]"
     ]
    },
    {
     "name": "stdout",
     "output_type": "stream",
     "text": [
      "path Data/BuildingsDataSet/Masks/256/2304_4864_1.2.tif\n",
      "path Data/BuildingsDataSet/Images/256/1536_3840_1.4.tif\n"
     ]
    },
    {
     "name": "stderr",
     "output_type": "stream",
     "text": [
      "\r",
      " 93%|█████████▎| 57/61 [00:22<00:01,  2.63it/s]"
     ]
    },
    {
     "name": "stdout",
     "output_type": "stream",
     "text": [
      "path Data/BuildingsDataSet/Masks/256/1536_3840_1.4.tif\n",
      "path Data/BuildingsDataSet/Images/256/3072_3840_1.4.tif\n"
     ]
    },
    {
     "name": "stderr",
     "output_type": "stream",
     "text": [
      "\r",
      " 95%|█████████▌| 58/61 [00:22<00:01,  2.64it/s]"
     ]
    },
    {
     "name": "stdout",
     "output_type": "stream",
     "text": [
      "path Data/BuildingsDataSet/Masks/256/3072_3840_1.4.tif\n",
      "path Data/BuildingsDataSet/Images/256/3840_1536_1.1.tif\n"
     ]
    },
    {
     "name": "stderr",
     "output_type": "stream",
     "text": [
      "\r",
      " 97%|█████████▋| 59/61 [00:22<00:00,  2.70it/s]"
     ]
    },
    {
     "name": "stdout",
     "output_type": "stream",
     "text": [
      "path Data/BuildingsDataSet/Masks/256/3840_1536_1.1.tif\n",
      "path Data/BuildingsDataSet/Images/256/3840_2048_1.2.tif\n"
     ]
    },
    {
     "name": "stderr",
     "output_type": "stream",
     "text": [
      "\r",
      " 98%|█████████▊| 60/61 [00:23<00:00,  2.88it/s]"
     ]
    },
    {
     "name": "stdout",
     "output_type": "stream",
     "text": [
      "path Data/BuildingsDataSet/Masks/256/3840_2048_1.2.tif\n",
      "path Data/BuildingsDataSet/Images/256/3328_256_1.4.tif\n"
     ]
    },
    {
     "name": "stderr",
     "output_type": "stream",
     "text": [
      "100%|██████████| 61/61 [00:23<00:00,  2.60it/s]"
     ]
    },
    {
     "name": "stdout",
     "output_type": "stream",
     "text": [
      "path Data/BuildingsDataSet/Masks/256/3328_256_1.4.tif\n",
      "Deleting empty images and masks.\n"
     ]
    },
    {
     "name": "stderr",
     "output_type": "stream",
     "text": [
      "\n",
      "  0%|          | 0/84 [00:00<?, ?it/s]"
     ]
    },
    {
     "name": "stdout",
     "output_type": "stream",
     "text": [
      "\n",
      "160 images were deleted.\n",
      "Clipping tilesize: 64\n",
      "Total number of files = 84\n",
      "path Data/BuildingsDataSet/Images/128/128_128_4608_4352_1.4.tif\n"
     ]
    },
    {
     "name": "stderr",
     "output_type": "stream",
     "text": [
      "\r",
      "  1%|          | 1/84 [00:00<00:29,  2.79it/s]"
     ]
    },
    {
     "name": "stdout",
     "output_type": "stream",
     "text": [
      "path Data/BuildingsDataSet/Masks/128/128_128_4608_4352_1.4.tif\n",
      "path Data/BuildingsDataSet/Images/128/0_0_512_768_1.3.tif\n"
     ]
    },
    {
     "name": "stderr",
     "output_type": "stream",
     "text": [
      "\r",
      "  2%|▏         | 2/84 [00:00<00:27,  2.96it/s]"
     ]
    },
    {
     "name": "stdout",
     "output_type": "stream",
     "text": [
      "path Data/BuildingsDataSet/Masks/128/0_0_512_768_1.3.tif\n",
      "path Data/BuildingsDataSet/Images/128/0_128_0_5376_1.1.tif\n"
     ]
    },
    {
     "name": "stderr",
     "output_type": "stream",
     "text": [
      "\r",
      "  4%|▎         | 3/84 [00:00<00:26,  3.11it/s]"
     ]
    },
    {
     "name": "stdout",
     "output_type": "stream",
     "text": [
      "path Data/BuildingsDataSet/Masks/128/0_128_0_5376_1.1.tif\n",
      "path Data/BuildingsDataSet/Images/128/0_128_2560_4352_1.3.tif\n"
     ]
    },
    {
     "name": "stderr",
     "output_type": "stream",
     "text": [
      "\r",
      "  5%|▍         | 4/84 [00:01<00:24,  3.22it/s]"
     ]
    },
    {
     "name": "stdout",
     "output_type": "stream",
     "text": [
      "path Data/BuildingsDataSet/Masks/128/0_128_2560_4352_1.3.tif\n",
      "path Data/BuildingsDataSet/Images/128/128_128_3072_2304_1.3.tif\n"
     ]
    },
    {
     "name": "stderr",
     "output_type": "stream",
     "text": [
      "\r",
      "  6%|▌         | 5/84 [00:01<00:23,  3.39it/s]"
     ]
    },
    {
     "name": "stdout",
     "output_type": "stream",
     "text": [
      "path Data/BuildingsDataSet/Masks/128/128_128_3072_2304_1.3.tif\n",
      "path Data/BuildingsDataSet/Images/128/0_128_256_1536_1.3.tif\n"
     ]
    },
    {
     "name": "stderr",
     "output_type": "stream",
     "text": [
      "\r",
      "  7%|▋         | 6/84 [00:01<00:23,  3.26it/s]"
     ]
    },
    {
     "name": "stdout",
     "output_type": "stream",
     "text": [
      "path Data/BuildingsDataSet/Masks/128/0_128_256_1536_1.3.tif\n",
      "path Data/BuildingsDataSet/Images/128/0_0_2048_768_1.2.tif\n"
     ]
    },
    {
     "name": "stderr",
     "output_type": "stream",
     "text": [
      "\r",
      "  8%|▊         | 7/84 [00:02<00:22,  3.44it/s]"
     ]
    },
    {
     "name": "stdout",
     "output_type": "stream",
     "text": [
      "path Data/BuildingsDataSet/Masks/128/0_0_2048_768_1.2.tif\n",
      "path Data/BuildingsDataSet/Images/128/128_128_4352_5120_1.2.tif\n"
     ]
    },
    {
     "name": "stderr",
     "output_type": "stream",
     "text": [
      "\r",
      " 10%|▉         | 8/84 [00:02<00:21,  3.54it/s]"
     ]
    },
    {
     "name": "stdout",
     "output_type": "stream",
     "text": [
      "path Data/BuildingsDataSet/Masks/128/128_128_4352_5120_1.2.tif\n",
      "path Data/BuildingsDataSet/Images/128/0_0_1024_256_1.2.tif\n"
     ]
    },
    {
     "name": "stderr",
     "output_type": "stream",
     "text": [
      "\r",
      " 11%|█         | 9/84 [00:02<00:20,  3.58it/s]"
     ]
    },
    {
     "name": "stdout",
     "output_type": "stream",
     "text": [
      "path Data/BuildingsDataSet/Masks/128/0_0_1024_256_1.2.tif\n",
      "path Data/BuildingsDataSet/Images/128/0_128_512_768_1.3.tif\n"
     ]
    },
    {
     "name": "stderr",
     "output_type": "stream",
     "text": [
      "\r",
      " 12%|█▏        | 10/84 [00:02<00:20,  3.66it/s]"
     ]
    },
    {
     "name": "stdout",
     "output_type": "stream",
     "text": [
      "path Data/BuildingsDataSet/Masks/128/0_128_512_768_1.3.tif\n",
      "path Data/BuildingsDataSet/Images/128/128_0_3072_4096_1.4.tif\n"
     ]
    },
    {
     "name": "stderr",
     "output_type": "stream",
     "text": [
      "\r",
      " 13%|█▎        | 11/84 [00:03<00:19,  3.66it/s]"
     ]
    },
    {
     "name": "stdout",
     "output_type": "stream",
     "text": [
      "path Data/BuildingsDataSet/Masks/128/128_0_3072_4096_1.4.tif\n",
      "path Data/BuildingsDataSet/Images/128/128_128_3072_3840_1.4.tif\n"
     ]
    },
    {
     "name": "stderr",
     "output_type": "stream",
     "text": [
      "\r",
      " 14%|█▍        | 12/84 [00:03<00:19,  3.74it/s]"
     ]
    },
    {
     "name": "stdout",
     "output_type": "stream",
     "text": [
      "path Data/BuildingsDataSet/Masks/128/128_128_3072_3840_1.4.tif\n",
      "path Data/BuildingsDataSet/Images/128/128_128_1792_0_1.2.tif\n"
     ]
    },
    {
     "name": "stderr",
     "output_type": "stream",
     "text": [
      "\r",
      " 15%|█▌        | 13/84 [00:03<00:18,  3.76it/s]"
     ]
    },
    {
     "name": "stdout",
     "output_type": "stream",
     "text": [
      "path Data/BuildingsDataSet/Masks/128/128_128_1792_0_1.2.tif\n",
      "path Data/BuildingsDataSet/Images/128/0_128_3072_2304_1.3.tif\n"
     ]
    },
    {
     "name": "stderr",
     "output_type": "stream",
     "text": [
      "\r",
      " 17%|█▋        | 14/84 [00:03<00:18,  3.79it/s]"
     ]
    },
    {
     "name": "stdout",
     "output_type": "stream",
     "text": [
      "path Data/BuildingsDataSet/Masks/128/0_128_3072_2304_1.3.tif\n",
      "path Data/BuildingsDataSet/Images/128/0_0_3840_2048_1.1.tif\n",
      "path Data/BuildingsDataSet/Masks/128/0_0_3840_2048_1.1.tif\n"
     ]
    },
    {
     "name": "stderr",
     "output_type": "stream",
     "text": [
      "\r",
      " 18%|█▊        | 15/84 [00:04<00:23,  2.92it/s]"
     ]
    },
    {
     "name": "stdout",
     "output_type": "stream",
     "text": [
      "path Data/BuildingsDataSet/Images/128/0_128_3584_1536_1.2.tif\n",
      "path Data/BuildingsDataSet/Masks/128/0_128_3584_1536_1.2.tif\n"
     ]
    },
    {
     "name": "stderr",
     "output_type": "stream",
     "text": [
      "\r",
      " 19%|█▉        | 16/84 [00:04<00:21,  3.10it/s]"
     ]
    },
    {
     "name": "stdout",
     "output_type": "stream",
     "text": [
      "path Data/BuildingsDataSet/Images/128/128_128_3584_4608_1.3.tif\n",
      "path Data/BuildingsDataSet/Masks/128/128_128_3584_4608_1.3.tif\n"
     ]
    },
    {
     "name": "stderr",
     "output_type": "stream",
     "text": [
      "\r",
      " 20%|██        | 17/84 [00:05<00:20,  3.20it/s]"
     ]
    },
    {
     "name": "stdout",
     "output_type": "stream",
     "text": [
      "path Data/BuildingsDataSet/Images/128/0_0_1536_256_1.4.tif\n",
      "path Data/BuildingsDataSet/Masks/128/0_0_1536_256_1.4.tif\n"
     ]
    },
    {
     "name": "stderr",
     "output_type": "stream",
     "text": [
      "\r",
      " 21%|██▏       | 18/84 [00:05<00:20,  3.29it/s]"
     ]
    },
    {
     "name": "stdout",
     "output_type": "stream",
     "text": [
      "path Data/BuildingsDataSet/Images/128/0_0_2304_4864_1.2.tif\n",
      "path Data/BuildingsDataSet/Masks/128/0_0_2304_4864_1.2.tif\n"
     ]
    },
    {
     "name": "stderr",
     "output_type": "stream",
     "text": [
      "\r",
      " 23%|██▎       | 19/84 [00:05<00:19,  3.38it/s]"
     ]
    },
    {
     "name": "stdout",
     "output_type": "stream",
     "text": [
      "path Data/BuildingsDataSet/Images/128/128_0_1792_2048_1.1.tif\n",
      "path Data/BuildingsDataSet/Masks/128/128_0_1792_2048_1.1.tif\n"
     ]
    },
    {
     "name": "stderr",
     "output_type": "stream",
     "text": [
      "\r",
      " 24%|██▍       | 20/84 [00:05<00:18,  3.48it/s]"
     ]
    },
    {
     "name": "stdout",
     "output_type": "stream",
     "text": [
      "path Data/BuildingsDataSet/Images/128/128_128_3328_256_1.4.tif\n",
      "path Data/BuildingsDataSet/Masks/128/128_128_3328_256_1.4.tif\n"
     ]
    },
    {
     "name": "stderr",
     "output_type": "stream",
     "text": [
      "\r",
      " 25%|██▌       | 21/84 [00:06<00:17,  3.51it/s]"
     ]
    },
    {
     "name": "stdout",
     "output_type": "stream",
     "text": [
      "path Data/BuildingsDataSet/Images/128/128_128_1280_512_1.2.tif\n",
      "path Data/BuildingsDataSet/Masks/128/128_128_1280_512_1.2.tif\n"
     ]
    },
    {
     "name": "stderr",
     "output_type": "stream",
     "text": [
      "\r",
      " 26%|██▌       | 22/84 [00:06<00:17,  3.61it/s]"
     ]
    },
    {
     "name": "stdout",
     "output_type": "stream",
     "text": [
      "path Data/BuildingsDataSet/Images/128/0_0_512_1536_1.3.tif\n",
      "path Data/BuildingsDataSet/Masks/128/0_0_512_1536_1.3.tif\n"
     ]
    },
    {
     "name": "stderr",
     "output_type": "stream",
     "text": [
      "\r",
      " 27%|██▋       | 23/84 [00:06<00:16,  3.60it/s]"
     ]
    },
    {
     "name": "stdout",
     "output_type": "stream",
     "text": [
      "path Data/BuildingsDataSet/Images/128/0_0_1280_768_1.2.tif\n",
      "path Data/BuildingsDataSet/Masks/128/0_0_1280_768_1.2.tif\n"
     ]
    },
    {
     "name": "stderr",
     "output_type": "stream",
     "text": [
      "\r",
      " 29%|██▊       | 24/84 [00:06<00:16,  3.66it/s]"
     ]
    },
    {
     "name": "stdout",
     "output_type": "stream",
     "text": [
      "path Data/BuildingsDataSet/Images/128/128_128_0_1536_1.3.tif\n",
      "path Data/BuildingsDataSet/Masks/128/128_128_0_1536_1.3.tif\n"
     ]
    },
    {
     "name": "stderr",
     "output_type": "stream",
     "text": [
      "\r",
      " 30%|██▉       | 25/84 [00:07<00:16,  3.60it/s]"
     ]
    },
    {
     "name": "stdout",
     "output_type": "stream",
     "text": [
      "path Data/BuildingsDataSet/Images/128/0_128_0_1536_1.3.tif\n",
      "path Data/BuildingsDataSet/Masks/128/0_128_0_1536_1.3.tif\n"
     ]
    },
    {
     "name": "stderr",
     "output_type": "stream",
     "text": [
      "\r",
      " 31%|███       | 26/84 [00:07<00:15,  3.67it/s]"
     ]
    },
    {
     "name": "stdout",
     "output_type": "stream",
     "text": [
      "path Data/BuildingsDataSet/Images/128/128_0_3840_1536_1.1.tif\n",
      "path Data/BuildingsDataSet/Masks/128/128_0_3840_1536_1.1.tif\n"
     ]
    },
    {
     "name": "stderr",
     "output_type": "stream",
     "text": [
      "\r",
      " 32%|███▏      | 27/84 [00:08<00:20,  2.78it/s]"
     ]
    },
    {
     "name": "stdout",
     "output_type": "stream",
     "text": [
      "path Data/BuildingsDataSet/Images/128/0_128_1280_1024_1.2.tif\n",
      "path Data/BuildingsDataSet/Masks/128/0_128_1280_1024_1.2.tif\n"
     ]
    },
    {
     "name": "stderr",
     "output_type": "stream",
     "text": [
      "\r",
      " 33%|███▎      | 28/84 [00:08<00:18,  3.03it/s]"
     ]
    },
    {
     "name": "stdout",
     "output_type": "stream",
     "text": [
      "path Data/BuildingsDataSet/Images/128/128_0_3840_768_1.1.tif\n",
      "path Data/BuildingsDataSet/Masks/128/128_0_3840_768_1.1.tif\n"
     ]
    },
    {
     "name": "stderr",
     "output_type": "stream",
     "text": [
      "\r",
      " 35%|███▍      | 29/84 [00:08<00:16,  3.24it/s]"
     ]
    },
    {
     "name": "stdout",
     "output_type": "stream",
     "text": [
      "path Data/BuildingsDataSet/Images/128/128_0_2816_3072_1.1.tif\n",
      "path Data/BuildingsDataSet/Masks/128/128_0_2816_3072_1.1.tif\n"
     ]
    },
    {
     "name": "stderr",
     "output_type": "stream",
     "text": [
      "\r",
      " 36%|███▌      | 30/84 [00:08<00:15,  3.40it/s]"
     ]
    },
    {
     "name": "stdout",
     "output_type": "stream",
     "text": [
      "path Data/BuildingsDataSet/Images/128/128_0_3840_3840_1.4.tif\n",
      "path Data/BuildingsDataSet/Masks/128/128_0_3840_3840_1.4.tif\n"
     ]
    },
    {
     "name": "stderr",
     "output_type": "stream",
     "text": [
      "\r",
      " 37%|███▋      | 31/84 [00:09<00:15,  3.53it/s]"
     ]
    },
    {
     "name": "stdout",
     "output_type": "stream",
     "text": [
      "path Data/BuildingsDataSet/Images/128/128_128_1536_3840_1.4.tif\n",
      "path Data/BuildingsDataSet/Masks/128/128_128_1536_3840_1.4.tif\n"
     ]
    },
    {
     "name": "stderr",
     "output_type": "stream",
     "text": [
      "\r",
      " 38%|███▊      | 32/84 [00:09<00:14,  3.51it/s]"
     ]
    },
    {
     "name": "stdout",
     "output_type": "stream",
     "text": [
      "path Data/BuildingsDataSet/Images/128/128_0_1280_3072_1.1.tif\n",
      "path Data/BuildingsDataSet/Masks/128/128_0_1280_3072_1.1.tif\n"
     ]
    },
    {
     "name": "stderr",
     "output_type": "stream",
     "text": [
      "\r",
      " 39%|███▉      | 33/84 [00:09<00:14,  3.60it/s]"
     ]
    },
    {
     "name": "stdout",
     "output_type": "stream",
     "text": [
      "path Data/BuildingsDataSet/Images/128/0_0_1280_512_1.2.tif\n",
      "path Data/BuildingsDataSet/Masks/128/0_0_1280_512_1.2.tif\n"
     ]
    },
    {
     "name": "stderr",
     "output_type": "stream",
     "text": [
      "\r",
      " 40%|████      | 34/84 [00:09<00:13,  3.67it/s]"
     ]
    },
    {
     "name": "stdout",
     "output_type": "stream",
     "text": [
      "path Data/BuildingsDataSet/Images/128/0_0_3072_2304_1.3.tif\n",
      "path Data/BuildingsDataSet/Masks/128/0_0_3072_2304_1.3.tif\n"
     ]
    },
    {
     "name": "stderr",
     "output_type": "stream",
     "text": [
      "\r",
      " 42%|████▏     | 35/84 [00:10<00:13,  3.70it/s]"
     ]
    },
    {
     "name": "stdout",
     "output_type": "stream",
     "text": [
      "path Data/BuildingsDataSet/Images/128/0_0_3840_1536_1.1.tif\n",
      "path Data/BuildingsDataSet/Masks/128/0_0_3840_1536_1.1.tif\n"
     ]
    },
    {
     "name": "stderr",
     "output_type": "stream",
     "text": [
      "\r",
      " 43%|████▎     | 36/84 [00:10<00:12,  3.75it/s]"
     ]
    },
    {
     "name": "stdout",
     "output_type": "stream",
     "text": [
      "path Data/BuildingsDataSet/Images/128/0_128_4864_4608_1.2.tif\n",
      "path Data/BuildingsDataSet/Masks/128/0_128_4864_4608_1.2.tif\n"
     ]
    },
    {
     "name": "stderr",
     "output_type": "stream",
     "text": [
      "\r",
      " 44%|████▍     | 37/84 [00:10<00:12,  3.78it/s]"
     ]
    },
    {
     "name": "stdout",
     "output_type": "stream",
     "text": [
      "path Data/BuildingsDataSet/Images/128/0_0_2560_2048_1.2.tif\n",
      "path Data/BuildingsDataSet/Masks/128/0_0_2560_2048_1.2.tif\n"
     ]
    },
    {
     "name": "stderr",
     "output_type": "stream",
     "text": [
      "\r",
      " 45%|████▌     | 38/84 [00:10<00:12,  3.77it/s]"
     ]
    },
    {
     "name": "stdout",
     "output_type": "stream",
     "text": [
      "path Data/BuildingsDataSet/Images/128/128_128_2816_2816_1.1.tif\n",
      "path Data/BuildingsDataSet/Masks/128/128_128_2816_2816_1.1.tif\n"
     ]
    },
    {
     "name": "stderr",
     "output_type": "stream",
     "text": [
      "\r",
      " 46%|████▋     | 39/84 [00:11<00:11,  3.81it/s]"
     ]
    },
    {
     "name": "stdout",
     "output_type": "stream",
     "text": [
      "path Data/BuildingsDataSet/Images/128/128_0_1536_256_1.4.tif\n",
      "path Data/BuildingsDataSet/Masks/128/128_0_1536_256_1.4.tif\n"
     ]
    },
    {
     "name": "stderr",
     "output_type": "stream",
     "text": [
      "\r",
      " 48%|████▊     | 40/84 [00:11<00:11,  3.83it/s]"
     ]
    },
    {
     "name": "stdout",
     "output_type": "stream",
     "text": [
      "path Data/BuildingsDataSet/Images/128/0_128_1792_0_1.2.tif\n",
      "path Data/BuildingsDataSet/Masks/128/0_128_1792_0_1.2.tif\n"
     ]
    },
    {
     "name": "stderr",
     "output_type": "stream",
     "text": [
      "\r",
      " 49%|████▉     | 41/84 [00:11<00:11,  3.82it/s]"
     ]
    },
    {
     "name": "stdout",
     "output_type": "stream",
     "text": [
      "path Data/BuildingsDataSet/Images/128/0_128_3072_0_1.1.tif\n",
      "path Data/BuildingsDataSet/Masks/128/0_128_3072_0_1.1.tif\n"
     ]
    },
    {
     "name": "stderr",
     "output_type": "stream",
     "text": [
      "\r",
      " 50%|█████     | 42/84 [00:12<00:10,  3.83it/s]"
     ]
    },
    {
     "name": "stdout",
     "output_type": "stream",
     "text": [
      "path Data/BuildingsDataSet/Images/128/0_128_3072_4096_1.4.tif\n",
      "path Data/BuildingsDataSet/Masks/128/0_128_3072_4096_1.4.tif\n"
     ]
    },
    {
     "name": "stderr",
     "output_type": "stream",
     "text": [
      "\r",
      " 51%|█████     | 43/84 [00:12<00:10,  3.85it/s]"
     ]
    },
    {
     "name": "stdout",
     "output_type": "stream",
     "text": [
      "path Data/BuildingsDataSet/Images/128/128_128_1024_4608_1.1.tif\n",
      "path Data/BuildingsDataSet/Masks/128/128_128_1024_4608_1.1.tif\n"
     ]
    },
    {
     "name": "stderr",
     "output_type": "stream",
     "text": [
      "\r",
      " 52%|█████▏    | 44/84 [00:12<00:10,  3.84it/s]"
     ]
    },
    {
     "name": "stdout",
     "output_type": "stream",
     "text": [
      "path Data/BuildingsDataSet/Images/128/128_0_1280_4864_1.1.tif\n"
     ]
    },
    {
     "name": "stderr",
     "output_type": "stream",
     "text": [
      "\r",
      " 54%|█████▎    | 45/84 [00:12<00:11,  3.41it/s]"
     ]
    },
    {
     "name": "stdout",
     "output_type": "stream",
     "text": [
      "path Data/BuildingsDataSet/Masks/128/128_0_1280_4864_1.1.tif\n",
      "path Data/BuildingsDataSet/Images/128/128_0_256_1536_1.3.tif\n"
     ]
    },
    {
     "name": "stderr",
     "output_type": "stream",
     "text": [
      "\r",
      " 55%|█████▍    | 46/84 [00:13<00:10,  3.51it/s]"
     ]
    },
    {
     "name": "stdout",
     "output_type": "stream",
     "text": [
      "path Data/BuildingsDataSet/Masks/128/128_0_256_1536_1.3.tif\n",
      "path Data/BuildingsDataSet/Images/128/0_0_256_1536_1.3.tif\n"
     ]
    },
    {
     "name": "stderr",
     "output_type": "stream",
     "text": [
      "\r",
      " 56%|█████▌    | 47/84 [00:13<00:10,  3.58it/s]"
     ]
    },
    {
     "name": "stdout",
     "output_type": "stream",
     "text": [
      "path Data/BuildingsDataSet/Masks/128/0_0_256_1536_1.3.tif\n",
      "path Data/BuildingsDataSet/Images/128/128_0_768_5120_1.1.tif\n"
     ]
    },
    {
     "name": "stderr",
     "output_type": "stream",
     "text": [
      "\r",
      " 57%|█████▋    | 48/84 [00:13<00:09,  3.66it/s]"
     ]
    },
    {
     "name": "stdout",
     "output_type": "stream",
     "text": [
      "path Data/BuildingsDataSet/Masks/128/128_0_768_5120_1.1.tif\n",
      "path Data/BuildingsDataSet/Images/128/0_0_1280_1280_1.2.tif\n"
     ]
    },
    {
     "name": "stderr",
     "output_type": "stream",
     "text": [
      "\r",
      " 58%|█████▊    | 49/84 [00:13<00:09,  3.71it/s]"
     ]
    },
    {
     "name": "stdout",
     "output_type": "stream",
     "text": [
      "path Data/BuildingsDataSet/Masks/128/0_0_1280_1280_1.2.tif\n",
      "path Data/BuildingsDataSet/Images/128/128_0_4608_4608_1.4.tif\n"
     ]
    },
    {
     "name": "stderr",
     "output_type": "stream",
     "text": [
      "\r",
      " 60%|█████▉    | 50/84 [00:14<00:09,  3.75it/s]"
     ]
    },
    {
     "name": "stdout",
     "output_type": "stream",
     "text": [
      "path Data/BuildingsDataSet/Masks/128/128_0_4608_4608_1.4.tif\n",
      "path Data/BuildingsDataSet/Images/128/128_128_2048_3072_1.1.tif\n"
     ]
    },
    {
     "name": "stderr",
     "output_type": "stream",
     "text": [
      "\r",
      " 61%|██████    | 51/84 [00:14<00:08,  3.77it/s]"
     ]
    },
    {
     "name": "stdout",
     "output_type": "stream",
     "text": [
      "path Data/BuildingsDataSet/Masks/128/128_128_2048_3072_1.1.tif\n",
      "path Data/BuildingsDataSet/Images/128/128_0_3840_0_1.1.tif\n"
     ]
    },
    {
     "name": "stderr",
     "output_type": "stream",
     "text": [
      "\r",
      " 62%|██████▏   | 52/84 [00:14<00:08,  3.80it/s]"
     ]
    },
    {
     "name": "stdout",
     "output_type": "stream",
     "text": [
      "path Data/BuildingsDataSet/Masks/128/128_0_3840_0_1.1.tif\n",
      "path Data/BuildingsDataSet/Images/128/0_0_2560_2304_1.1.tif\n"
     ]
    },
    {
     "name": "stderr",
     "output_type": "stream",
     "text": [
      "\r",
      " 63%|██████▎   | 53/84 [00:15<00:08,  3.79it/s]"
     ]
    },
    {
     "name": "stdout",
     "output_type": "stream",
     "text": [
      "path Data/BuildingsDataSet/Masks/128/0_0_2560_2304_1.1.tif\n",
      "path Data/BuildingsDataSet/Images/128/0_128_4096_4864_1.2.tif\n"
     ]
    },
    {
     "name": "stderr",
     "output_type": "stream",
     "text": [
      "\r",
      " 64%|██████▍   | 54/84 [00:15<00:07,  3.81it/s]"
     ]
    },
    {
     "name": "stdout",
     "output_type": "stream",
     "text": [
      "path Data/BuildingsDataSet/Masks/128/0_128_4096_4864_1.2.tif\n",
      "path Data/BuildingsDataSet/Images/128/128_128_3840_2048_1.2.tif\n"
     ]
    },
    {
     "name": "stderr",
     "output_type": "stream",
     "text": [
      "\r",
      " 65%|██████▌   | 55/84 [00:15<00:07,  3.72it/s]"
     ]
    },
    {
     "name": "stdout",
     "output_type": "stream",
     "text": [
      "path Data/BuildingsDataSet/Masks/128/128_128_3840_2048_1.2.tif\n",
      "path Data/BuildingsDataSet/Images/128/0_128_3584_2560_1.4.tif\n"
     ]
    },
    {
     "name": "stderr",
     "output_type": "stream",
     "text": [
      "\r",
      " 67%|██████▋   | 56/84 [00:15<00:07,  3.74it/s]"
     ]
    },
    {
     "name": "stdout",
     "output_type": "stream",
     "text": [
      "path Data/BuildingsDataSet/Masks/128/0_128_3584_2560_1.4.tif\n",
      "path Data/BuildingsDataSet/Images/128/128_128_768_2816_1.4.tif\n"
     ]
    },
    {
     "name": "stderr",
     "output_type": "stream",
     "text": [
      "\r",
      " 68%|██████▊   | 57/84 [00:16<00:07,  3.77it/s]"
     ]
    },
    {
     "name": "stdout",
     "output_type": "stream",
     "text": [
      "path Data/BuildingsDataSet/Masks/128/128_128_768_2816_1.4.tif\n",
      "path Data/BuildingsDataSet/Images/128/128_0_2816_1536_1.2.tif\n"
     ]
    },
    {
     "name": "stderr",
     "output_type": "stream",
     "text": [
      "\r",
      " 69%|██████▉   | 58/84 [00:16<00:06,  3.79it/s]"
     ]
    },
    {
     "name": "stdout",
     "output_type": "stream",
     "text": [
      "path Data/BuildingsDataSet/Masks/128/128_0_2816_1536_1.2.tif\n",
      "path Data/BuildingsDataSet/Images/128/128_128_3072_0_1.1.tif\n"
     ]
    },
    {
     "name": "stderr",
     "output_type": "stream",
     "text": [
      "\r",
      " 70%|███████   | 59/84 [00:16<00:06,  3.80it/s]"
     ]
    },
    {
     "name": "stdout",
     "output_type": "stream",
     "text": [
      "path Data/BuildingsDataSet/Masks/128/128_128_3072_0_1.1.tif\n",
      "path Data/BuildingsDataSet/Images/128/0_0_4096_2048_1.1.tif\n"
     ]
    },
    {
     "name": "stderr",
     "output_type": "stream",
     "text": [
      "\r",
      " 71%|███████▏  | 60/84 [00:16<00:06,  3.81it/s]"
     ]
    },
    {
     "name": "stdout",
     "output_type": "stream",
     "text": [
      "path Data/BuildingsDataSet/Masks/128/0_0_4096_2048_1.1.tif\n",
      "path Data/BuildingsDataSet/Images/128/0_0_4096_0_1.1.tif\n"
     ]
    },
    {
     "name": "stderr",
     "output_type": "stream",
     "text": [
      "\r",
      " 73%|███████▎  | 61/84 [00:17<00:06,  3.80it/s]"
     ]
    },
    {
     "name": "stdout",
     "output_type": "stream",
     "text": [
      "path Data/BuildingsDataSet/Masks/128/0_0_4096_0_1.1.tif\n",
      "path Data/BuildingsDataSet/Images/128/0_0_1280_4864_1.1.tif\n"
     ]
    },
    {
     "name": "stderr",
     "output_type": "stream",
     "text": [
      "\r",
      " 74%|███████▍  | 62/84 [00:17<00:05,  3.81it/s]"
     ]
    },
    {
     "name": "stdout",
     "output_type": "stream",
     "text": [
      "path Data/BuildingsDataSet/Masks/128/0_0_1280_4864_1.1.tif\n",
      "path Data/BuildingsDataSet/Images/128/128_0_1024_768_1.2.tif\n"
     ]
    },
    {
     "name": "stderr",
     "output_type": "stream",
     "text": [
      "\r",
      " 75%|███████▌  | 63/84 [00:17<00:05,  3.81it/s]"
     ]
    },
    {
     "name": "stdout",
     "output_type": "stream",
     "text": [
      "path Data/BuildingsDataSet/Masks/128/128_0_1024_768_1.2.tif\n",
      "path Data/BuildingsDataSet/Images/128/128_0_2560_2048_1.2.tif\n"
     ]
    },
    {
     "name": "stderr",
     "output_type": "stream",
     "text": [
      "\r",
      " 76%|███████▌  | 64/84 [00:17<00:05,  3.84it/s]"
     ]
    },
    {
     "name": "stdout",
     "output_type": "stream",
     "text": [
      "path Data/BuildingsDataSet/Masks/128/128_0_2560_2048_1.2.tif\n",
      "path Data/BuildingsDataSet/Images/128/0_128_1536_0_1.4.tif\n"
     ]
    },
    {
     "name": "stderr",
     "output_type": "stream",
     "text": [
      "\r",
      " 77%|███████▋  | 65/84 [00:18<00:04,  3.82it/s]"
     ]
    },
    {
     "name": "stdout",
     "output_type": "stream",
     "text": [
      "path Data/BuildingsDataSet/Masks/128/0_128_1536_0_1.4.tif\n",
      "path Data/BuildingsDataSet/Images/128/0_128_1280_512_1.2.tif\n"
     ]
    },
    {
     "name": "stderr",
     "output_type": "stream",
     "text": [
      "\r",
      " 79%|███████▊  | 66/84 [00:18<00:04,  3.77it/s]"
     ]
    },
    {
     "name": "stdout",
     "output_type": "stream",
     "text": [
      "path Data/BuildingsDataSet/Masks/128/0_128_1280_512_1.2.tif\n",
      "path Data/BuildingsDataSet/Images/128/128_128_1536_0_1.4.tif\n"
     ]
    },
    {
     "name": "stderr",
     "output_type": "stream",
     "text": [
      "\r",
      " 80%|███████▉  | 67/84 [00:18<00:04,  3.80it/s]"
     ]
    },
    {
     "name": "stdout",
     "output_type": "stream",
     "text": [
      "path Data/BuildingsDataSet/Masks/128/128_128_1536_0_1.4.tif\n",
      "path Data/BuildingsDataSet/Images/128/0_0_3584_2560_1.4.tif\n"
     ]
    },
    {
     "name": "stderr",
     "output_type": "stream",
     "text": [
      "\r",
      " 81%|████████  | 68/84 [00:18<00:04,  3.80it/s]"
     ]
    },
    {
     "name": "stdout",
     "output_type": "stream",
     "text": [
      "path Data/BuildingsDataSet/Masks/128/0_0_3584_2560_1.4.tif\n",
      "path Data/BuildingsDataSet/Images/128/0_0_2560_3328_1.3.tif\n"
     ]
    },
    {
     "name": "stderr",
     "output_type": "stream",
     "text": [
      "\r",
      " 82%|████████▏ | 69/84 [00:19<00:03,  3.82it/s]"
     ]
    },
    {
     "name": "stdout",
     "output_type": "stream",
     "text": [
      "path Data/BuildingsDataSet/Masks/128/0_0_2560_3328_1.3.tif\n",
      "path Data/BuildingsDataSet/Images/128/128_0_1280_1792_1.4.tif\n"
     ]
    },
    {
     "name": "stderr",
     "output_type": "stream",
     "text": [
      "\r",
      " 83%|████████▎ | 70/84 [00:19<00:03,  3.78it/s]"
     ]
    },
    {
     "name": "stdout",
     "output_type": "stream",
     "text": [
      "path Data/BuildingsDataSet/Masks/128/128_0_1280_1792_1.4.tif\n",
      "path Data/BuildingsDataSet/Images/128/0_128_2560_2048_1.1.tif\n"
     ]
    },
    {
     "name": "stderr",
     "output_type": "stream",
     "text": [
      "\r",
      " 85%|████████▍ | 71/84 [00:19<00:03,  3.80it/s]"
     ]
    },
    {
     "name": "stdout",
     "output_type": "stream",
     "text": [
      "path Data/BuildingsDataSet/Masks/128/0_128_2560_2048_1.1.tif\n",
      "path Data/BuildingsDataSet/Images/128/0_0_1024_5120_1.1.tif\n"
     ]
    },
    {
     "name": "stderr",
     "output_type": "stream",
     "text": [
      "\r",
      " 86%|████████▌ | 72/84 [00:20<00:03,  3.83it/s]"
     ]
    },
    {
     "name": "stdout",
     "output_type": "stream",
     "text": [
      "path Data/BuildingsDataSet/Masks/128/0_0_1024_5120_1.1.tif\n",
      "path Data/BuildingsDataSet/Images/128/128_0_1792_3072_1.1.tif\n"
     ]
    },
    {
     "name": "stderr",
     "output_type": "stream",
     "text": [
      "\r",
      " 87%|████████▋ | 73/84 [00:20<00:02,  3.73it/s]"
     ]
    },
    {
     "name": "stdout",
     "output_type": "stream",
     "text": [
      "path Data/BuildingsDataSet/Masks/128/128_0_1792_3072_1.1.tif\n",
      "path Data/BuildingsDataSet/Images/128/128_0_3840_2048_1.1.tif\n"
     ]
    },
    {
     "name": "stderr",
     "output_type": "stream",
     "text": [
      "\r",
      " 88%|████████▊ | 74/84 [00:20<00:02,  3.75it/s]"
     ]
    },
    {
     "name": "stdout",
     "output_type": "stream",
     "text": [
      "path Data/BuildingsDataSet/Masks/128/128_0_3840_2048_1.1.tif\n",
      "path Data/BuildingsDataSet/Images/128/128_128_1024_768_1.2.tif\n"
     ]
    },
    {
     "name": "stderr",
     "output_type": "stream",
     "text": [
      "\r",
      " 89%|████████▉ | 75/84 [00:20<00:02,  3.76it/s]"
     ]
    },
    {
     "name": "stdout",
     "output_type": "stream",
     "text": [
      "path Data/BuildingsDataSet/Masks/128/128_128_1024_768_1.2.tif\n",
      "path Data/BuildingsDataSet/Images/128/128_128_2560_2560_1.3.tif\n"
     ]
    },
    {
     "name": "stderr",
     "output_type": "stream",
     "text": [
      "\r",
      " 90%|█████████ | 76/84 [00:21<00:02,  3.78it/s]"
     ]
    },
    {
     "name": "stdout",
     "output_type": "stream",
     "text": [
      "path Data/BuildingsDataSet/Masks/128/128_128_2560_2560_1.3.tif\n",
      "path Data/BuildingsDataSet/Images/128/0_0_2560_3328_1.4.tif\n"
     ]
    },
    {
     "name": "stderr",
     "output_type": "stream",
     "text": [
      "\r",
      " 92%|█████████▏| 77/84 [00:21<00:01,  3.78it/s]"
     ]
    },
    {
     "name": "stdout",
     "output_type": "stream",
     "text": [
      "path Data/BuildingsDataSet/Masks/128/0_0_2560_3328_1.4.tif\n",
      "path Data/BuildingsDataSet/Images/128/128_0_1792_0_1.2.tif\n"
     ]
    },
    {
     "name": "stderr",
     "output_type": "stream",
     "text": [
      "\r",
      " 93%|█████████▎| 78/84 [00:21<00:01,  3.80it/s]"
     ]
    },
    {
     "name": "stdout",
     "output_type": "stream",
     "text": [
      "path Data/BuildingsDataSet/Masks/128/128_0_1792_0_1.2.tif\n",
      "path Data/BuildingsDataSet/Images/128/0_128_2560_3328_1.3.tif\n"
     ]
    },
    {
     "name": "stderr",
     "output_type": "stream",
     "text": [
      "\r",
      " 94%|█████████▍| 79/84 [00:21<00:01,  3.79it/s]"
     ]
    },
    {
     "name": "stdout",
     "output_type": "stream",
     "text": [
      "path Data/BuildingsDataSet/Masks/128/0_128_2560_3328_1.3.tif\n",
      "path Data/BuildingsDataSet/Images/128/0_128_4096_2048_1.2.tif\n"
     ]
    },
    {
     "name": "stderr",
     "output_type": "stream",
     "text": [
      "\r",
      " 95%|█████████▌| 80/84 [00:22<00:01,  3.79it/s]"
     ]
    },
    {
     "name": "stdout",
     "output_type": "stream",
     "text": [
      "path Data/BuildingsDataSet/Masks/128/0_128_4096_2048_1.2.tif\n",
      "path Data/BuildingsDataSet/Images/128/0_0_2048_3072_1.1.tif\n"
     ]
    },
    {
     "name": "stderr",
     "output_type": "stream",
     "text": [
      "\r",
      " 96%|█████████▋| 81/84 [00:22<00:00,  3.78it/s]"
     ]
    },
    {
     "name": "stdout",
     "output_type": "stream",
     "text": [
      "path Data/BuildingsDataSet/Masks/128/0_0_2048_3072_1.1.tif\n",
      "path Data/BuildingsDataSet/Images/128/0_0_4096_2048_1.2.tif\n"
     ]
    },
    {
     "name": "stderr",
     "output_type": "stream",
     "text": [
      "\r",
      " 98%|█████████▊| 82/84 [00:22<00:00,  3.81it/s]"
     ]
    },
    {
     "name": "stdout",
     "output_type": "stream",
     "text": [
      "path Data/BuildingsDataSet/Masks/128/0_0_4096_2048_1.2.tif\n",
      "path Data/BuildingsDataSet/Images/128/128_128_768_1024_1.3.tif\n"
     ]
    },
    {
     "name": "stderr",
     "output_type": "stream",
     "text": [
      "\r",
      " 99%|█████████▉| 83/84 [00:22<00:00,  3.83it/s]"
     ]
    },
    {
     "name": "stdout",
     "output_type": "stream",
     "text": [
      "path Data/BuildingsDataSet/Masks/128/128_128_768_1024_1.3.tif\n",
      "path Data/BuildingsDataSet/Images/128/0_0_2304_0_1.1.tif\n"
     ]
    },
    {
     "name": "stderr",
     "output_type": "stream",
     "text": [
      "100%|██████████| 84/84 [00:23<00:00,  3.62it/s]"
     ]
    },
    {
     "name": "stdout",
     "output_type": "stream",
     "text": [
      "path Data/BuildingsDataSet/Masks/128/0_0_2304_0_1.1.tif\n",
      "Deleting empty images and masks.\n"
     ]
    },
    {
     "name": "stderr",
     "output_type": "stream",
     "text": [
      "\n"
     ]
    },
    {
     "name": "stdout",
     "output_type": "stream",
     "text": [
      "\n",
      "176 images were deleted.\n"
     ]
    }
   ],
   "source": [
    "if __name__ == \"__main__\":\n",
    "    root_data_path = \"Data/DesforestationAlerts/\"\n",
    "    root_new_data_path = \"Data/BuildingsDataSet/\"\n",
    "    test_to_train_ratio = 0\n",
    "    tilesize_start = 256\n",
    "    degrowth_factor = 2\n",
    "\n",
    "    # Path Information\n",
    "    images_path = root_data_path + \"Images/\"\n",
    "    masks_path = root_data_path + \"Masks/\"\n",
    "    new_images_path = root_new_data_path + \"Images/\"\n",
    "    new_masks_path = root_new_data_path + \"Masks/\"\n",
    "\n",
    "    for path in [new_images_path, new_masks_path]:\n",
    "        if not os.path.exists(path):\n",
    "            os.mkdir(path)\n",
    "            print(\"DIRECTORY CREATED: {}\".format(path))\n",
    "        else:\n",
    "             print(\"DIRECTORY ALREADY EXISTS: {}\".format(path))\n",
    "                \n",
    "    print(\"Building Dataset.\")\n",
    "\n",
    "    # recorta as imagens em diferentes tamanhos\n",
    "    # 256x256\n",
    "    tilesize = tilesize_start\n",
    "    crop_and_save(images_path, masks_path, new_images_path, new_masks_path, tilesize, degrowth_factor, first=True)\n",
    "    # 128x128\n",
    "    tilesize //= degrowth_factor\n",
    "    crop_and_save(images_path, masks_path, new_images_path, new_masks_path, tilesize, degrowth_factor, first=False)\n",
    "    # 64x64\n",
    "    tilesize //= degrowth_factor\n",
    "    crop_and_save(images_path, masks_path, new_images_path, new_masks_path, tilesize, degrowth_factor, first=False, last=True)\n",
    "    \"\"\"\n",
    "    # 32x32\n",
    "    tilesize //= degrowth_factor\n",
    "    crop_and_save(images_path, masks_path, new_images_path, new_masks_path, tilesize, degrowth_factor, first=False, last=True)\n",
    "    \"\"\"\n",
    "    \n",
    "    \n",
    "    \n",
    "    \n",
    "    "
   ]
  }
 ],
 "metadata": {
  "kernelspec": {
   "display_name": "Python 3",
   "language": "python",
   "name": "python3"
  },
  "language_info": {
   "codemirror_mode": {
    "name": "ipython",
    "version": 3
   },
   "file_extension": ".py",
   "mimetype": "text/x-python",
   "name": "python",
   "nbconvert_exporter": "python",
   "pygments_lexer": "ipython3",
   "version": "3.6.9"
  }
 },
 "nbformat": 4,
 "nbformat_minor": 2
}
