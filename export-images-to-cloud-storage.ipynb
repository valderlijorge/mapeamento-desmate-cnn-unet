{
 "cells": [
  {
   "cell_type": "code",
   "execution_count": 90,
   "metadata": {},
   "outputs": [],
   "source": [
    "import ee\n",
    "from datetime import datetime"
   ]
  },
  {
   "cell_type": "code",
   "execution_count": null,
   "metadata": {
    "scrolled": true
   },
   "outputs": [],
   "source": [
    "ee.Authenticate()"
   ]
  },
  {
   "cell_type": "code",
   "execution_count": 5,
   "metadata": {},
   "outputs": [],
   "source": [
    "ee.Initialize()"
   ]
  },
  {
   "cell_type": "code",
   "execution_count": 177,
   "metadata": {},
   "outputs": [],
   "source": [
    "bands = ['B2', 'B3', 'B4', 'B8', 'pB2', 'pB3', 'pB4', 'pB8', 'mask']\n",
    "\n",
    "coords = [-44.51335,-5.81875]\n",
    "point = ee.Geometry.Point(coords)\n",
    "\n",
    "sentinel2 = ee.ImageCollection('COPERNICUS/S2_SR')\n",
    "sentinel2 = sentinel2.filterBounds(point)"
   ]
  },
  {
   "cell_type": "code",
   "execution_count": 174,
   "metadata": {},
   "outputs": [],
   "source": [
    "# Alerts mapbiomas\n",
    "alerts_mapbiomas_all = ee.FeatureCollection('users/valderli/mapbiomas_alerts_cena_23mnp')\n",
    "\n",
    "date_start = datetime.strptime('01/01/2019', '%d/%m/%Y').timestamp() * 1000\n",
    "#date_end = datetime.strptime('01/01/2019', '%d/%m/%Y').timestamp() * 1000\n",
    "\n",
    "alerts_mapbiomas = alerts_mapbiomas_all.filterMetadata('beforeDate', 'greater_than', date_start)\n",
    "#alerts_mapbiomas = alerts_mapbiomas.filterMetadata('afterDate', 'less_than', date_end);\n",
    "\n",
    "alerts_mapbiomas_features = alerts_mapbiomas.getInfo()['features']"
   ]
  },
  {
   "cell_type": "code",
   "execution_count": 179,
   "metadata": {},
   "outputs": [],
   "source": [
    "# Define function of buffering and bounding      \n",
    "def bounding_box(feature):\n",
    "    buffer = feature.buffer(500)  # buffer in m\n",
    "    box = buffer.bounds()\n",
    "    return(box)\n",
    "\n",
    "alerts_mapbiomas_boxes = alerts_mapbiomas.map(bounding_box);\n",
    "alerts_mapbiomas_boxes_features = alerts_mapbiomas_boxes.getInfo()['features']"
   ]
  },
  {
   "cell_type": "code",
   "execution_count": 79,
   "metadata": {},
   "outputs": [],
   "source": [
    "def maskS2clouds(image):\n",
    "    qa = image.select('QA60')\n",
    "\n",
    "    # Bits 10 and 11 are clouds and cirrus, respectively.\n",
    "    cloudBitMask = 1 << 10\n",
    "    cirrusBitMask = 1 << 11\n",
    "\n",
    "    # Both flags should be set to zero, indicating clear conditions.\n",
    "    mask = qa.bitwiseAnd(cloudBitMask).eq(0) and (qa.bitwiseAnd(cirrusBitMask).eq(0))\n",
    "\n",
    "    return image.updateMask(mask);"
   ]
  },
  {
   "cell_type": "code",
   "execution_count": 92,
   "metadata": {},
   "outputs": [],
   "source": [
    "def millisecondsTodate(m_seconds):\n",
    "    return datetime.fromtimestamp(m_seconds / 1000.0).strftime('%Y-%m-%d')"
   ]
  },
  {
   "cell_type": "code",
   "execution_count": 187,
   "metadata": {},
   "outputs": [],
   "source": [
    "def exportToCloudStorage(image, name):\n",
    "    task = ee.batch.Export.image.toCloudStorage(\n",
    "        image = image.select(bands).toInt(),\n",
    "        description = name,\n",
    "        bucket = 'tensorflow-fire-cerrado1',\n",
    "        fileNamePrefix = 'images_train_test_alerts_deforestation/{0}'.format(name),\n",
    "        maxPixels = 1e13,\n",
    "        scale = 10,\n",
    "        region = None\n",
    "    );\n",
    "    task.start()\n",
    "    \n",
    "def exportToDrive(image, name):\n",
    "    task = ee.batch.Export.image.toDrive(\n",
    "        image = image.select(bands).toInt(),\n",
    "        folder='images_train_test_alerts_deforestation',\n",
    "        description = name,\n",
    "        maxPixels = 1e13,\n",
    "        scale = 10,\n",
    "        region = None\n",
    "    );\n",
    "    task.start()"
   ]
  },
  {
   "cell_type": "code",
   "execution_count": null,
   "metadata": {
    "scrolled": false
   },
   "outputs": [],
   "source": [
    "# um dia em milissegundos\n",
    "m_day = 8.64e+7\n",
    "\n",
    "for index, alert_box in enumerate(alerts_mapbiomas_boxes_features):\n",
    "\n",
    "    #if index == 17:\n",
    "    props = alert_box['properties']\n",
    "\n",
    "    before_date = props['beforeDate']\n",
    "    after_date  = props['afterDate']\n",
    "    alert_id    = props['IDAlerta']\n",
    "\n",
    "    region = ee.Feature(alert_box)\n",
    "\n",
    "    # image before alert\n",
    "    before_end = before_date - 5 * m_day\n",
    "    before_start = before_end - 15 * m_day\n",
    "\n",
    "    before_date_start = millisecondsTodate(before_start)\n",
    "    before_date_end = millisecondsTodate(before_end)\n",
    "\n",
    "    before_image = sentinel2.filterDate(before_date_start, before_date_end)\n",
    "    before_image = before_image.filter(ee.Filter.lt('CLOUDY_PIXEL_PERCENTAGE', 20))\n",
    "    before_image = before_image.map(maskS2clouds).median()\n",
    "\n",
    "    # image after alert\n",
    "    after_start = after_date + 2 * m_day\n",
    "    after_end = after_start + 15 * m_day\n",
    "\n",
    "    after_date_start = millisecondsTodate(after_start)\n",
    "    after_date_end = millisecondsTodate(after_end)\n",
    "\n",
    "    after_image = sentinel2.filterDate(after_date_start, after_date_end)\n",
    "    after_image = after_image.filter(ee.Filter.lt('CLOUDY_PIXEL_PERCENTAGE', 20))\n",
    "    after_image = after_image.map(maskS2clouds).median()\n",
    "\n",
    "    # merge images before and after alert\n",
    "    image = before_image.addBands(after_image.select('B2').rename('pB2'))\n",
    "    image = image.addBands(after_image.select('B3').rename('pB3'))\n",
    "    image = image.addBands(after_image.select('B4').rename('pB4'))\n",
    "    image = image.addBands(after_image.select('B8').rename('pB8'));\n",
    "\n",
    "    # mask\n",
    "    alert = alerts_mapbiomas_features[index]\n",
    "    feature_alert = ee.Feature(alert)\n",
    "    mask = ee.Image(1).clip(feature_alert).unmask(ee.Image.constant(0));\n",
    "    mask = mask.select(['constant'], ['mask'])\n",
    "\n",
    "    image = image.addBands(mask.select('mask'));\n",
    "\n",
    "    # clip image\n",
    "    image = image.select(bands).clip(region)\n",
    "\n",
    "    # export image\n",
    "    exportToDrive(image, 'alert_id_{0}'.format(alert_id))\n",
    "\n",
    "    print(\"id {0}: {1}\".format(alert_id, millisecondsTodate(before_date)))"
   ]
  }
 ],
 "metadata": {
  "kernelspec": {
   "display_name": "Python 3",
   "language": "python",
   "name": "python3"
  }
 },
 "nbformat": 4,
 "nbformat_minor": 2
}
