{
 "cells": [
  {
   "cell_type": "code",
   "execution_count": 4,
   "metadata": {},
   "outputs": [],
   "source": [
    "import warnings\n",
    "warnings.filterwarnings('ignore')\n",
    "\n",
    "import os\n",
    "import numpy as np\n",
    "import tensorflow as tf\n",
    "from keras.models import load_model\n",
    "from keras import optimizers\n",
    "import tensorflow.keras.backend as K\n",
    "from osgeo import gdal\n",
    "\n",
    "from matplotlib import pyplot as plt\n",
    "import random\n",
    "from skimage.io import imshow\n",
    "from matplotlib import pyplot as plt\n",
    "\n",
    "from sklearn.model_selection import train_test_split\n",
    "from IPython.display import clear_output\n",
    "from keras.callbacks import EarlyStopping, ModelCheckpoint, ReduceLROnPlateau\n",
    "\n",
    "seed = 101"
   ]
  },
  {
   "cell_type": "code",
   "execution_count": 5,
   "metadata": {},
   "outputs": [],
   "source": [
    "IMAGE_HEIGHT = IMAGE_WIDTH = 32\n",
    "NUM_BANDS = 10\n",
    "images_path = 'Data/BuildingsDataSet/Images/'\n",
    "masks_path = 'Data/BuildingsDataSet/Masks/'"
   ]
  },
  {
   "cell_type": "code",
   "execution_count": 6,
   "metadata": {},
   "outputs": [],
   "source": [
    "def load_image(image):\n",
    "    return gdal.Open(image, gdal.GA_ReadOnly)\n",
    "    \n",
    "def convert_to_array(dataset):\n",
    "    bands = [dataset.GetRasterBand(i + 1).ReadAsArray() for i in range(dataset.RasterCount)]\n",
    "    return np.stack(bands, 2)\n",
    "\n",
    "def normalize(img):\n",
    "    min = img.min()\n",
    "    max = img.max()\n",
    "    x = 2.0 * (img - min) / (max - min) - 1.0\n",
    "    return x"
   ]
  },
  {
   "cell_type": "code",
   "execution_count": 214,
   "metadata": {},
   "outputs": [
    {
     "name": "stdout",
     "output_type": "stream",
     "text": [
      "Total imagens: \n",
      " 1518\n",
      "Images: \n",
      " (1518, 32, 32, 10)\n",
      "Masks: \n",
      " (1518, 32, 32, 1)\n",
      "\n",
      "0 Images were skipped.\n",
      "\n",
      "Unique elements in the train mask: [0 1]\n"
     ]
    }
   ],
   "source": [
    "files = next(os.walk(images_path))[2]\n",
    "\n",
    "all_images = []\n",
    "all_masks = []\n",
    "num_skipped = 0\n",
    "for image_file in files:\n",
    "\n",
    "    image_path = images_path + image_file\n",
    "    image = load_image(image_path)\n",
    "    image_data = convert_to_array(image)\n",
    "    image_data[np.isnan(image_data)] = 0 # adiciona 0 onde é NaN\n",
    "    image_data = normalize(image_data)\n",
    "\n",
    "    mask_path = masks_path + image_file\n",
    "    mask = load_image(mask_path)\n",
    "    mask_data = convert_to_array(mask)\n",
    "    mask_data[np.isnan(mask_data)] = 0 # adiciona 0 onde é NaN\n",
    "    mask_data[mask_data>0] = 1\n",
    "    mask_data[mask_data<=0] = 0\n",
    "    \n",
    "    # Pule qualquer mask e imagem em que a mask esteja mais de 99% vazia.\n",
    "    if np.any(mask_data):\n",
    "        num_white_pixels = len(mask_data[mask_data==1])\n",
    "        num_black_pixels = len(mask_data[mask_data==0])\n",
    "        if num_black_pixels == 0: num_black_pixels = 1 # para evitar erro de dividir por 0\n",
    "\n",
    "        if num_white_pixels/num_black_pixels < 0.01:\n",
    "            num_skipped+=1\n",
    "            continue\n",
    "            \n",
    "        #os.rename(image_path, img_path + image_file)\n",
    "        #os.rename(mask_path, mks_path + image_file)\n",
    "        \n",
    "        all_images.append(image_data)\n",
    "        all_masks.append(mask_data)\n",
    "    else: \n",
    "        num_skipped+=1\n",
    "    \n",
    "    #if len(all_images) >= 400:\n",
    "        #break\n",
    "\n",
    "images = np.array(all_images)\n",
    "masks = np.array(all_masks, dtype=int)\n",
    "print('Total imagens: \\n', len(all_images))\n",
    "print('Images: \\n', images.shape)\n",
    "print('Masks: \\n', masks.shape)\n",
    "print(\"\\n{} Images were skipped.\".format(num_skipped))\n",
    "print(\"\\nUnique elements in the train mask:\", np.unique(masks))"
   ]
  },
  {
   "cell_type": "code",
   "execution_count": null,
   "metadata": {
    "scrolled": true
   },
   "outputs": [],
   "source": [
    "plt.figure(figsize=(20,16))\n",
    "x, y = 2,2\n",
    "for i in range(y):  \n",
    "    for j in range(x):\n",
    "        plt.subplot(y*2, x, i*2*x+j+1)\n",
    "        pos = i*2 + j*1\n",
    "        #plt.imshow((images[pos][:,:,1:4]).astype(np.uint8))\n",
    "        plt.imshow(np.clip(images[pos][:,:,[0,1,2]] / 5000, 0, 1))\n",
    "        plt.title('Sat img #{}'.format(pos))\n",
    "        plt.axis('off')\n",
    "        plt.subplot(y*2, x, (i*2+1)*x+j+1)\n",
    "           \n",
    "        #We display the associated mask we just generated above with the training image\n",
    "        plt.imshow(masks[pos])\n",
    "        plt.title('Mask #{}'.format(pos))\n",
    "        plt.axis('off')\n",
    "        \n",
    "plt.show()"
   ]
  },
  {
   "cell_type": "code",
   "execution_count": 270,
   "metadata": {},
   "outputs": [],
   "source": [
    "#masks = np.expand_dims(masks, -1)"
   ]
  },
  {
   "cell_type": "markdown",
   "metadata": {},
   "source": [
    "### Defining Custom Loss functions."
   ]
  },
  {
   "cell_type": "code",
   "execution_count": 9,
   "metadata": {},
   "outputs": [],
   "source": [
    "#Source: https://towardsdatascience.com/metrics-to-evaluate-your-semantic-segmentation-model-6bcb99639aa2\n",
    "from keras import backend as K\n",
    "def iou_coef(y_true, y_pred, smooth=1):\n",
    "    intersection = K.sum(K.abs(y_true * y_pred), axis=[1,2,3])\n",
    "    union = K.sum(y_true,[1,2,3])+K.sum(y_pred,[1,2,3])-intersection\n",
    "    iou = K.mean((intersection + smooth) / (union + smooth), axis=0)\n",
    "\n",
    "    return iou"
   ]
  },
  {
   "cell_type": "code",
   "execution_count": 10,
   "metadata": {},
   "outputs": [],
   "source": [
    "def dice_coef(y_true, y_pred, smooth = 1):\n",
    "    y_true_f = K.flatten(y_true)\n",
    "    y_pred_f = K.flatten(y_pred)\n",
    "    intersection = K.sum(y_true_f * y_pred_f)\n",
    "    return (2. * intersection + smooth) / (K.sum(y_true_f) + K.sum(y_pred_f) + smooth)\n",
    "\n",
    "def soft_dice_loss(y_true, y_pred):\n",
    "    return 1-dice_coef(y_true, y_pred)"
   ]
  },
  {
   "cell_type": "markdown",
   "metadata": {},
   "source": [
    "### Splitting data"
   ]
  },
  {
   "cell_type": "code",
   "execution_count": 215,
   "metadata": {},
   "outputs": [
    {
     "name": "stdout",
     "output_type": "stream",
     "text": [
      "TRAIN SET\n",
      "(1366, 32, 32, 10)\n",
      "(1366, 32, 32, 1)\n",
      "TEST SET\n",
      "(152, 32, 32, 10)\n",
      "(152, 32, 32, 1)\n"
     ]
    }
   ],
   "source": [
    "train_images, test_images, train_masks, test_masks = train_test_split(images, masks, test_size=0.1, random_state=seed)\n",
    "del images, masks\n",
    "print(\"TRAIN SET\")\n",
    "print(train_images.shape)\n",
    "print(train_masks.shape)\n",
    "print(\"TEST SET\")\n",
    "print(test_images.shape)\n",
    "print(test_masks.shape)"
   ]
  },
  {
   "cell_type": "markdown",
   "metadata": {},
   "source": [
    "### Display exemple image"
   ]
  },
  {
   "cell_type": "code",
   "execution_count": 12,
   "metadata": {},
   "outputs": [],
   "source": [
    "def display(display_list):\n",
    "    plt.figure(figsize=(15, 15))\n",
    "\n",
    "    title = ['Input Image', 'True Mask', 'Predicted Mask']\n",
    "\n",
    "    for i in range(len(display_list)):\n",
    "        plt.subplot(1, len(display_list), i+1)\n",
    "        plt.title(title[i])\n",
    "        plt.imshow(tf.keras.preprocessing.image.array_to_img(display_list[i]))\n",
    "        plt.axis('off')\n",
    "    plt.show()"
   ]
  },
  {
   "cell_type": "code",
   "execution_count": 268,
   "metadata": {},
   "outputs": [
    {
     "data": {
      "image/png": "[encoded data removed]",
      "text/plain": [
       "<Figure size 1080x1080 with 2 Axes>"
      ]
     },
     "metadata": {
      "needs_background": "light"
     },
     "output_type": "display_data"
    }
   ],
   "source": [
    "i = 18\n",
    "sample_image, sample_mask = train_images[i], train_masks[i]\n",
    "display([sample_image[:,:,[2,1,0]], sample_mask])"
   ]
  },
  {
   "cell_type": "markdown",
   "metadata": {},
   "source": [
    "### Importing Our Model"
   ]
  },
  {
   "cell_type": "code",
   "execution_count": 269,
   "metadata": {},
   "outputs": [
    {
     "name": "stdout",
     "output_type": "stream",
     "text": [
      "importing Jupyter notebook from unet_lstm_model.ipynb\n"
     ]
    }
   ],
   "source": [
    "import importlib\n",
    "import import_ipynb\n",
    "\n",
    "# para recarregar do modelo quando tiver alguma alteração\n",
    "importlib.reload(M)\n",
    "\n",
    "import unet_lstm_model as M"
   ]
  },
  {
   "cell_type": "code",
   "execution_count": null,
   "metadata": {
    "scrolled": true
   },
   "outputs": [],
   "source": [
    "model = M.unet_filters_64x512(input_size = (IMAGE_WIDTH, IMAGE_HEIGHT, NUM_BANDS))\n",
    "model.summary()"
   ]
  },
  {
   "cell_type": "markdown",
   "metadata": {},
   "source": [
    "### Show prediction image exemple"
   ]
  },
  {
   "cell_type": "code",
   "execution_count": 271,
   "metadata": {},
   "outputs": [
    {
     "data": {
      "image/png": "[encoded data removed]",
      "text/plain": [
       "<Figure size 1080x1080 with 3 Axes>"
      ]
     },
     "metadata": {
      "needs_background": "light"
     },
     "output_type": "display_data"
    }
   ],
   "source": [
    "def show_predictions(dataset=None, num=1):\n",
    "    pred_mask = model.predict(sample_image[tf.newaxis, ...])\n",
    "    display([sample_image[:,:,[2,1,0]], sample_mask, pred_mask[0]])\n",
    "    \n",
    "show_predictions()"
   ]
  },
  {
   "cell_type": "markdown",
   "metadata": {},
   "source": [
    "### Hyper parameters"
   ]
  },
  {
   "cell_type": "code",
   "execution_count": 272,
   "metadata": {},
   "outputs": [],
   "source": [
    "EPOCHS = 25\n",
    "LEARNING_RATE = 0.0001\n",
    "BATCH_SIZE = 16"
   ]
  },
  {
   "cell_type": "markdown",
   "metadata": {},
   "source": [
    "### Callbacks"
   ]
  },
  {
   "cell_type": "code",
   "execution_count": 273,
   "metadata": {},
   "outputs": [],
   "source": [
    "model_path = \"Models/checkpoint_02.h5\"\n",
    "checkpointer = ModelCheckpoint(model_path,\n",
    "                               monitor=\"val_loss\",\n",
    "                               mode=\"min\",\n",
    "                               save_best_only = True,\n",
    "                               #save_weights_only=True,\n",
    "                               verbose=1\n",
    "                              )\n",
    "\"\"\"\n",
    "earlystopper = EarlyStopping(monitor = 'val_loss',\n",
    "                          min_delta = 0, \n",
    "                          patience = 5,\n",
    "                          verbose = 1,\n",
    "                          restore_best_weights = True)\n",
    "\"\"\"\n",
    "\n",
    "lr_reducer = ReduceLROnPlateau(monitor='val_loss',\n",
    "                               factor=0.1,\n",
    "                               patience=4,\n",
    "                               verbose=1,\n",
    "                               mode=\"auto\"\n",
    "                              )"
   ]
  },
  {
   "cell_type": "code",
   "execution_count": 29,
   "metadata": {},
   "outputs": [],
   "source": [
    "class DisplayCallback(tf.keras.callbacks.Callback):\n",
    "    def on_epoch_end(self, epoch, logs=None):\n",
    "        clear_output(wait=True)\n",
    "        show_predictions()\n",
    "        print ('\\nSample Prediction after epoch {}\\n'.format(epoch+1))"
   ]
  },
  {
   "cell_type": "markdown",
   "metadata": {},
   "source": [
    "### Compiling the model"
   ]
  },
  {
   "cell_type": "code",
   "execution_count": 80,
   "metadata": {},
   "outputs": [],
   "source": [
    "class_weights=[0.2, 0.3, 0.1, 0.1, 0.3]\n",
    "\n",
    "def weighted_binary_crossentropy(y_true, y_pred):\n",
    "        class_loglosses = K.mean(K.binary_crossentropy(y_true, y_pred), axis=[0, 1, 2])\n",
    "        return K.sum(class_loglosses * K.constant(class_weights))"
   ]
  },
  {
   "cell_type": "code",
   "execution_count": 274,
   "metadata": {},
   "outputs": [],
   "source": [
    "opt = optimizers.Adam(LEARNING_RATE)\n",
    "model.compile(\n",
    "      optimizer=opt,\n",
    "      loss='binary_crossentropy',\n",
    "      metrics=[iou_coef, 'acc'])"
   ]
  },
  {
   "cell_type": "code",
   "execution_count": null,
   "metadata": {
    "scrolled": false
   },
   "outputs": [
    {
     "data": {
      "image/png": "[encoded data removed]",
      "text/plain": [
       "<Figure size 1080x1080 with 3 Axes>"
      ]
     },
     "metadata": {
      "needs_background": "light"
     },
     "output_type": "display_data"
    },
    {
     "name": "stdout",
     "output_type": "stream",
     "text": [
      "\n",
      "Sample Prediction after epoch 14\n",
      "\n",
      "77/77 [==============================] - 57s 745ms/step - loss: 0.1594 - iou_coef: 0.7046 - acc: 0.9405 - val_loss: 0.1646 - val_iou_coef: 0.7285 - val_acc: 0.9399 - lr: 1.0000e-05\n",
      "Epoch 15/25\n",
      "64/77 [=======================>......] - ETA: 9s - loss: 0.1591 - iou_coef: 0.7065 - acc: 0.9409 "
     ]
    }
   ],
   "source": [
    "history = model.fit(train_images,\n",
    "                    train_masks/1,\n",
    "                    validation_split = 0.1,\n",
    "                    epochs=EPOCHS,\n",
    "                    batch_size = BATCH_SIZE,\n",
    "                    callbacks=[checkpointer, lr_reducer, DisplayCallback()]\n",
    "                  )"
   ]
  },
  {
   "cell_type": "code",
   "execution_count": 212,
   "metadata": {},
   "outputs": [],
   "source": [
    "model.save(\"./Models/deforestation_trained_model_with_loss_soft_dice_loss.h5\")"
   ]
  },
  {
   "cell_type": "markdown",
   "metadata": {},
   "source": [
    "## Testing our Model"
   ]
  },
  {
   "cell_type": "code",
   "execution_count": 91,
   "metadata": {},
   "outputs": [],
   "source": [
    "model = load_model(\"./Models/deforestation_trained_model_02.h5\", custom_objects={'soft_dice_loss': soft_dice_loss, 'iou_coef': iou_coef})"
   ]
  },
  {
   "cell_type": "code",
   "execution_count": null,
   "metadata": {
    "scrolled": false
   },
   "outputs": [],
   "source": [
    "model.evaluate(test_images, test_masks)"
   ]
  },
  {
   "cell_type": "code",
   "execution_count": 167,
   "metadata": {},
   "outputs": [
    {
     "name": "stdout",
     "output_type": "stream",
     "text": [
      "10/10 [==============================] - 3s 264ms/step\n"
     ]
    }
   ],
   "source": [
    "predictions = model.predict(test_images, verbose=1)"
   ]
  },
  {
   "cell_type": "code",
   "execution_count": 211,
   "metadata": {},
   "outputs": [
    {
     "data": {
      "image/png": "[encoded data removed]",
      "text/plain": [
       "<Figure size 1440x1440 with 3 Axes>"
      ]
     },
     "metadata": {
      "needs_background": "light"
     },
     "output_type": "display_data"
    }
   ],
   "source": [
    "i = 130\n",
    "p = predictions[i]\n",
    "p = np.where(p > 0.5, 1, 0)\n",
    "\n",
    "f = plt.figure(figsize=(20,20))\n",
    "\n",
    "f.add_subplot(3, 3, 1)\n",
    "# 2 = B4, 1 = B3, 0 = B2\n",
    "plt.imshow(tf.keras.preprocessing.image.array_to_img(test_images[i][:,:,[2,1,0]]))\n",
    "plt.title('Image')\n",
    "\n",
    "f.add_subplot(3, 3, 2)\n",
    "plt.imshow(test_masks[i])\n",
    "plt.title('Mask')\n",
    "\n",
    "f.add_subplot(3, 3, 3)\n",
    "plt.imshow(p)\n",
    "plt.title('Prediction')\n",
    "       \n",
    "plt.show()"
   ]
  },
  {
   "cell_type": "code",
   "execution_count": null,
   "metadata": {
    "scrolled": false
   },
   "outputs": [],
   "source": [
    "#ix = random.randint(0, len(predictions))\n",
    "num_samples = 10\n",
    "\n",
    "f = plt.figure(figsize = (15, 25))\n",
    "for i in range(1, num_samples*4, 4):\n",
    "    ix = random.randint(0, len(predictions))\n",
    "\n",
    "    f.add_subplot(num_samples, 4, i)\n",
    "    imshow(test_images[ix][:,:])\n",
    "    plt.title(\"Image\")\n",
    "    plt.axis('off')\n",
    "\n",
    "    f.add_subplot(num_samples, 4, i+1)\n",
    "    imshow(np.squeeze(test_masks[ix][:,:,0]))\n",
    "    plt.title(\"Groud Truth {}\".format(ix))\n",
    "    plt.axis('off')\n",
    "\n",
    "    #pred = predictions[ix]*255\n",
    "    f.add_subplot(num_samples, 4, i+2)\n",
    "    imshow(np.squeeze(predictions[ix][:,:,0]))\n",
    "    plt.title(\"Prediction\")\n",
    "    plt.axis('off')\n",
    "\n",
    "    f.add_subplot(num_samples, 4, i+3)\n",
    "    imshow(np.squeeze(predicton_threshold[ix][:,:,0]))\n",
    "    plt.title(\"thresholded at {}\".format(thresh_val))\n",
    "    plt.axis('off')\n",
    "\n",
    "plt.show()"
   ]
  }
 ],
 "metadata": {
  "kernelspec": {
   "display_name": "Python 3",
   "language": "python",
   "name": "python3"
  },
  "language_info": {
   "codemirror_mode": {
    "name": "ipython",
    "version": 3
   },
   "file_extension": ".py",
   "mimetype": "text/x-python",
   "name": "python",
   "nbconvert_exporter": "python",
   "pygments_lexer": "ipython3",
   "version": "3.6.9"
  }
 },
 "nbformat": 4,
 "nbformat_minor": 2
}
