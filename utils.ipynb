{
 "cells": [
  {
   "cell_type": "code",
   "execution_count": 8,
   "metadata": {},
   "outputs": [],
   "source": [
    "from osgeo import gdal\n",
    "import numpy as np"
   ]
  },
  {
   "cell_type": "code",
   "execution_count": 6,
   "metadata": {},
   "outputs": [],
   "source": [
    "def load_image(image):\n",
    "    return gdal.Open(image, gdal.GA_ReadOnly)\n",
    "    \n",
    "def convert_to_array(dataset):\n",
    "    bands = [dataset.GetRasterBand(i + 1).ReadAsArray() for i in range(dataset.RasterCount)]\n",
    "    return np.stack(bands, 2)\n",
    "\n",
    "def normalize(img):\n",
    "    min = img.min()\n",
    "    max = img.max()\n",
    "    x = 2.0 * (img - min) / (max - min) - 1.0\n",
    "    return x\n",
    "\n",
    "def normalize_(img):\n",
    "    min = img.min()\n",
    "    max = img.max()\n",
    "    x = (img - min) / (max - min)\n",
    "    return x\n",
    "\n",
    "#############################\n",
    "### Custom Loss functions ###\n",
    "#############################\n",
    "# --------------------------------------------------------------------------------------\n",
    "def dice_coef(y_true, y_pred, smooth = 1):\n",
    "    y_true_f = K.flatten(y_true)\n",
    "    y_pred_f = K.flatten(y_pred)\n",
    "    intersection = K.sum(y_true_f * y_pred_f)\n",
    "    return (2. * intersection + smooth) / (K.sum(y_true_f) + K.sum(y_pred_f) + smooth)\n",
    "\n",
    "def soft_dice_loss(y_true, y_pred):\n",
    "    return 1-dice_coef(y_true, y_pred)\n",
    "\n",
    "#Source: https://towardsdatascience.com/metrics-to-evaluate-your-semantic-segmentation-model-6bcb99639aa2\n",
    "from keras import backend as K\n",
    "def iou_coef(y_true, y_pred, smooth=1):\n",
    "    intersection = K.sum(K.abs(y_true * y_pred), axis=[1,2,3])\n",
    "    union = K.sum(y_true,[1,2,3])+K.sum(y_pred,[1,2,3])-intersection\n",
    "    iou = K.mean((intersection + smooth) / (union + smooth), axis=0)\n",
    "\n",
    "    return iou\n",
    "# --------------------------------------------------------------------------------------\n",
    "\n",
    "def convert_to_raster(image, predicted, output):\n",
    "    cols = image.RasterXSize\n",
    "    rows = image.RasterYSize\n",
    "    ds = image\n",
    "    \n",
    "    driver = gdal.GetDriverByName('GTiff')\n",
    "    outDs = driver.Create(output, cols, rows, 1, gdal.GDT_Float32)\n",
    "    outDs.GetRasterBand(1).WriteArray(predicted)\n",
    "\n",
    "    # follow code is adding GeoTransform and Projection\n",
    "    geotrans = ds.GetGeoTransform()  # get GeoTransform from existed 'data0'\n",
    "    proj = ds.GetProjection()  # you can get from a existed tif or import\n",
    "    outDs.SetGeoTransform(geotrans)\n",
    "    outDs.SetProjection(proj)\n",
    "    outDs.FlushCache()\n",
    "    outDs = None"
   ]
  }
 ],
 "metadata": {
  "kernelspec": {
   "display_name": "Python 3",
   "language": "python",
   "name": "python3"
  },
  "language_info": {
   "codemirror_mode": {
    "name": "ipython",
    "version": 3
   },
   "file_extension": ".py",
   "mimetype": "text/x-python",
   "name": "python",
   "nbconvert_exporter": "python",
   "pygments_lexer": "ipython3",
   "version": "3.6.9"
  }
 },
 "nbformat": 4,
 "nbformat_minor": 2
}
